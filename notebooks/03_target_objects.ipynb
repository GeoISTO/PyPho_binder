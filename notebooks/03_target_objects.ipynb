{
 "cells": [
  {
   "cell_type": "markdown",
   "metadata": {},
   "source": [
    "# Target Objects"
   ]
  },
  {
   "cell_type": "markdown",
   "metadata": {},
   "source": [
    "The module target.py provides helper functions to create typical objects to be modelled in geosciences and visualized in the Viewer.\n",
    "\n",
    "These objects are represented by the **TargetObject** class.\n",
    "\n",
    "They can either:\n",
    "* be instantiated as a generic **TargetObject** by providing an existing pyvista 3D object, or\n",
    "* be created as a given predetermined shape (e.g., Sphere, CubeSample, DrillCore)\n",
    "\n",
    "All objects can be created while specifying:\n",
    "* a **translation** to place the object at the desired location\n",
    "* a **rotation** to turn the object\n",
    "\n",
    "\n",
    "In this example, you'll learn how to:\n",
    "1. Create objects of the different types (Rock Samples, Outcrops outdoor or indoor)\n",
    "1. Create scenes with any PyVista or VTK object\n",
    "1. Show the normals to the object\n",
    "1. Add texturing\n",
    "\n",
    "<p style=\"text-align:left;\">\n",
    "    Previous page: <a href=\"./02_camera_definition.ipynb\">Camera Definition</a>\n",
    "    <span style=\"float:right;\">\n",
    "    Next page: <a href=\"./04_camera_manipulation.ipynb\">Camera Manipulation</a>\n",
    "    </span>\n",
    "</p>"
   ]
  },
  {
   "cell_type": "code",
   "execution_count": 1,
   "metadata": {},
   "outputs": [
    {
     "name": "stdout",
     "output_type": "stream",
     "text": [
      "Using PyPho version: 0.0.4\n"
     ]
    }
   ],
   "source": [
    "# this is to make pypho available from the local install\n",
    "import sys\n",
    "sys.path.append(\"..\")\n",
    "\n",
    "import pypho\n",
    "print(\"Using PyPho version:\", pypho.__version__)\n",
    "from pypho import camera, target, graphics"
   ]
  },
  {
   "cell_type": "markdown",
   "metadata": {},
   "source": [
    "## Rock Samples"
   ]
  },
  {
   "cell_type": "markdown",
   "metadata": {},
   "source": [
    "Different classes of **TargetObjects** are proposed to represent rock samples:\n",
    "* **Sphere**: a spherical object\n",
    "* **CubeSample**: a parallelepipedoid shape to represent a (rock) sample width given width, height, and depth\n",
    "* **DrillCore**: a cylindrical (rock) sample\n",
    "* **Pebble**: this is a special model with a complex shape which looks like a pebble. It comes with a rock texture, that can also be applied to any other object."
   ]
  },
  {
   "cell_type": "code",
   "execution_count": 2,
   "metadata": {},
   "outputs": [
    {
     "data": {
      "application/vnd.jupyter.widget-view+json": {
       "model_id": "05a1f88649a34f3fbaa11167029c93c5",
       "version_major": 2,
       "version_minor": 0
      },
      "text/plain": [
       "Widget(value='<iframe src=\"http://localhost:59088/index.html?ui=P_0x1774298fe80_1&reconnect=auto\" class=\"pyvis…"
      ]
     },
     "metadata": {},
     "output_type": "display_data"
    }
   ],
   "source": [
    "# base shape samples\n",
    "sphere = target.Sphere(radius= 0.05, translation= [1,0,0], rotation= [0,0,0])\n",
    "core = target.DrillCore(radius= 0.15, height= 0.25, translation= [1,1,0], rotation= [0,0,0])\n",
    "cube = target.CubeSample(side_lengths = [0.25, 0.3, 0.1], translation= [-1,1,0.1], rotation= [0,90,0])\n",
    "\n",
    "# Viewer\n",
    "viewer = graphics.Viewer3D(objects = [sphere, core, cube])\n",
    "viewer.show()"
   ]
  },
  {
   "cell_type": "code",
   "execution_count": 3,
   "metadata": {},
   "outputs": [
    {
     "data": {
      "application/vnd.jupyter.widget-view+json": {
       "model_id": "e80e7777d3a449f684806571fc9d5af9",
       "version_major": 2,
       "version_minor": 0
      },
      "text/plain": [
       "Widget(value='<iframe src=\"http://localhost:59088/index.html?ui=P_0x17767a3a800_2&reconnect=auto\" class=\"pyvis…"
      ]
     },
     "metadata": {},
     "output_type": "display_data"
    }
   ],
   "source": [
    "# Pebble\n",
    "pebble = target.get_pebble_dataset()\n",
    "rock_texture = target.get_rock_texture()\n",
    "pebble.plot(texture= rock_texture)"
   ]
  },
  {
   "cell_type": "markdown",
   "metadata": {},
   "source": [
    "## Outcrops outdor"
   ]
  },
  {
   "cell_type": "markdown",
   "metadata": {},
   "source": [
    "Photogrammetry also proves useful in many outdor configurations, including:\n",
    "* Digital Outcrop modelling\n",
    "* Unmanned Aerial Vehicle (UAV), aka. drone, surveys"
   ]
  },
  {
   "cell_type": "code",
   "execution_count": 4,
   "metadata": {},
   "outputs": [
    {
     "data": {
      "application/vnd.jupyter.widget-view+json": {
       "model_id": "4cc69b7857f7417b88da72b8298ac00d",
       "version_major": 2,
       "version_minor": 0
      },
      "text/plain": [
       "Widget(value='<iframe src=\"http://localhost:59088/index.html?ui=P_0x17767a39a20_4&reconnect=auto\" class=\"pyvis…"
      ]
     },
     "metadata": {},
     "output_type": "display_data"
    }
   ],
   "source": [
    "outcrop = target.Outcrop(\n",
    "    width = 5,\n",
    "    height = 3,\n",
    "    translation= [2,0,0],\n",
    "    rotation= [0,10]\n",
    ")\n",
    "\n",
    "ground = target.Ground(\n",
    "    side_lengths = [8,5],\n",
    "    translation = [-2.1,0,0],\n",
    "    rotation = None\n",
    ")\n",
    "\n",
    "# Viewer\n",
    "viewer = graphics.Viewer3D(objects = [outcrop, ground])\n",
    "viewer.show()"
   ]
  },
  {
   "cell_type": "markdown",
   "metadata": {},
   "source": [
    "## Outcrops indoor"
   ]
  },
  {
   "cell_type": "markdown",
   "metadata": {},
   "source": [
    "Photogrammetry also proves useful in indoor configurations. For this, two objects are provided:\n",
    "* Room: which represents a cubic room viewed from the inside\n",
    "* Well: which represents a cylindrical room viewed from the inside"
   ]
  },
  {
   "cell_type": "code",
   "execution_count": 5,
   "metadata": {},
   "outputs": [
    {
     "data": {
      "application/vnd.jupyter.widget-view+json": {
       "model_id": "23ad3ba6c0e44c3b9988efe223c56c52",
       "version_major": 2,
       "version_minor": 0
      },
      "text/plain": [
       "Widget(value='<iframe src=\"http://localhost:59088/index.html?ui=P_0x17773a84fa0_6&reconnect=auto\" class=\"pyvis…"
      ]
     },
     "metadata": {},
     "output_type": "display_data"
    }
   ],
   "source": [
    "room = target.Room(\n",
    "    side_lengths = [10,8,3],\n",
    "    translation = None,\n",
    "    rotation = None\n",
    ")\n",
    "\n",
    "# Viewer\n",
    "viewer = graphics.Viewer3D(objects = [room])\n",
    "viewer.show()"
   ]
  },
  {
   "cell_type": "code",
   "execution_count": 6,
   "metadata": {},
   "outputs": [
    {
     "data": {
      "application/vnd.jupyter.widget-view+json": {
       "model_id": "a208b546d2864e9abf2e89edeadae05c",
       "version_major": 2,
       "version_minor": 0
      },
      "text/plain": [
       "Widget(value='<iframe src=\"http://localhost:59088/index.html?ui=P_0x17716a46da0_8&reconnect=auto\" class=\"pyvis…"
      ]
     },
     "metadata": {},
     "output_type": "display_data"
    }
   ],
   "source": [
    "well = target.Well(\n",
    "    radius = 3,\n",
    "    height = 1.5,\n",
    "    translation = None,\n",
    "    rotation = None\n",
    ")\n",
    "\n",
    "# Viewer\n",
    "viewer = graphics.Viewer3D(objects = [well])\n",
    "viewer.show()"
   ]
  },
  {
   "cell_type": "markdown",
   "metadata": {},
   "source": [
    "## Pyvista objects"
   ]
  },
  {
   "cell_type": "code",
   "execution_count": 7,
   "metadata": {},
   "outputs": [
    {
     "data": {
      "application/vnd.jupyter.widget-view+json": {
       "model_id": "ffcdb75a07be4594aee6a097f119c026",
       "version_major": 2,
       "version_minor": 0
      },
      "text/plain": [
       "Widget(value='<iframe src=\"http://localhost:59088/index.html?ui=P_0x17716acd540_10&reconnect=auto\" class=\"pyvi…"
      ]
     },
     "metadata": {},
     "output_type": "display_data"
    }
   ],
   "source": [
    "from pyvista import examples\n",
    "hills = target.TargetObject(examples.load_random_hills())\n",
    "\n",
    "# customize scalar bar\n",
    "sargs = dict(height=0.25, width= 0.05, vertical=True, position_x=0.85, position_y=0.25)\n",
    "\n",
    "# Viewer\n",
    "viewer = graphics.Viewer3D(objects = hills, scalar_bar_args= sargs)\n",
    "viewer.show()"
   ]
  },
  {
   "cell_type": "markdown",
   "metadata": {},
   "source": [
    "# Normals"
   ]
  },
  {
   "cell_type": "markdown",
   "metadata": {},
   "source": [
    "The normals of the objects are set properly."
   ]
  },
  {
   "cell_type": "code",
   "execution_count": 8,
   "metadata": {},
   "outputs": [
    {
     "data": {
      "application/vnd.jupyter.widget-view+json": {
       "model_id": "e4318101f89d45d8b5f2236b5b834f5f",
       "version_major": 2,
       "version_minor": 0
      },
      "text/plain": [
       "Widget(value='<iframe src=\"http://localhost:59088/index.html?ui=P_0x1772f858640_11&reconnect=auto\" class=\"pyvi…"
      ]
     },
     "metadata": {},
     "output_type": "display_data"
    },
    {
     "data": {
      "application/vnd.jupyter.widget-view+json": {
       "model_id": "87b47162102c4c5bbd20fc209dec8ceb",
       "version_major": 2,
       "version_minor": 0
      },
      "text/plain": [
       "Widget(value='<iframe src=\"http://localhost:59088/index.html?ui=P_0x1772f85a2f0_12&reconnect=auto\" class=\"pyvi…"
      ]
     },
     "metadata": {},
     "output_type": "display_data"
    },
    {
     "data": {
      "application/vnd.jupyter.widget-view+json": {
       "model_id": "fc369b5173414c71a12427368f70d491",
       "version_major": 2,
       "version_minor": 0
      },
      "text/plain": [
       "Widget(value='<iframe src=\"http://localhost:59088/index.html?ui=P_0x1772f85a410_13&reconnect=auto\" class=\"pyvi…"
      ]
     },
     "metadata": {},
     "output_type": "display_data"
    },
    {
     "data": {
      "application/vnd.jupyter.widget-view+json": {
       "model_id": "2eccf335ddc44deb95ce0ea0b5b0dcde",
       "version_major": 2,
       "version_minor": 0
      },
      "text/plain": [
       "Widget(value='<iframe src=\"http://localhost:59088/index.html?ui=P_0x1772f85b220_14&reconnect=auto\" class=\"pyvi…"
      ]
     },
     "metadata": {},
     "output_type": "display_data"
    },
    {
     "data": {
      "application/vnd.jupyter.widget-view+json": {
       "model_id": "1e85b6ded5024559ba81625adcffa098",
       "version_major": 2,
       "version_minor": 0
      },
      "text/plain": [
       "Widget(value='<iframe src=\"http://localhost:59088/index.html?ui=P_0x1772f85b940_15&reconnect=auto\" class=\"pyvi…"
      ]
     },
     "metadata": {},
     "output_type": "display_data"
    },
    {
     "data": {
      "application/vnd.jupyter.widget-view+json": {
       "model_id": "5414d3652d214cfb8d2bd6d40466281e",
       "version_major": 2,
       "version_minor": 0
      },
      "text/plain": [
       "Widget(value='<iframe src=\"http://localhost:59088/index.html?ui=P_0x1772f85a890_16&reconnect=auto\" class=\"pyvi…"
      ]
     },
     "metadata": {},
     "output_type": "display_data"
    },
    {
     "data": {
      "application/vnd.jupyter.widget-view+json": {
       "model_id": "964e7939aa884702a8dfd238126641b9",
       "version_major": 2,
       "version_minor": 0
      },
      "text/plain": [
       "Widget(value='<iframe src=\"http://localhost:59088/index.html?ui=P_0x1772f85ba00_17&reconnect=auto\" class=\"pyvi…"
      ]
     },
     "metadata": {},
     "output_type": "display_data"
    },
    {
     "data": {
      "application/vnd.jupyter.widget-view+json": {
       "model_id": "cae42b271a104899aa2ccc4f139836dd",
       "version_major": 2,
       "version_minor": 0
      },
      "text/plain": [
       "Widget(value='<iframe src=\"http://localhost:59088/index.html?ui=P_0x1772f85b1c0_18&reconnect=auto\" class=\"pyvi…"
      ]
     },
     "metadata": {},
     "output_type": "display_data"
    }
   ],
   "source": [
    "sphere.plot_normals(mag=0.03, use_every=10)\n",
    "cube.plot_normals(mag=0.03, use_every=1)\n",
    "core.plot_normals(mag=0.03, use_every=2)\n",
    "outcrop.plot_normals(mag=0.3, use_every=1)\n",
    "ground.plot_normals(mag=0.3, use_every=1)\n",
    "room.plot_normals(mag=1, use_every=10)\n",
    "well.plot_normals(mag=1, use_every=10)\n",
    "hills.plot_normals(mag=1, use_every=10)"
   ]
  },
  {
   "cell_type": "markdown",
   "metadata": {},
   "source": [
    "# Texturing"
   ]
  },
  {
   "cell_type": "markdown",
   "metadata": {},
   "source": [
    "All the objects should accept texturing.\n",
    "\n",
    "NB: for objects not defined by Pypho's classes directly, make sure the texture coordinates are set."
   ]
  },
  {
   "cell_type": "code",
   "execution_count": 9,
   "metadata": {},
   "outputs": [],
   "source": [
    "x0, x1,y0, y1, _,_= hills.bounds\n",
    "_ = hills.texture_map_to_plane(inplace= True,\n",
    "                               origin= [x0,y0,0],\n",
    "                               point_u=[x1,y0,0],\n",
    "                               point_v=[x0,y1,0]\n",
    ")"
   ]
  },
  {
   "cell_type": "code",
   "execution_count": 10,
   "metadata": {},
   "outputs": [
    {
     "data": {
      "application/vnd.jupyter.widget-view+json": {
       "model_id": "cda8b277594940dd8ca6536b96573dc3",
       "version_major": 2,
       "version_minor": 0
      },
      "text/plain": [
       "Widget(value='<iframe src=\"http://localhost:59088/index.html?ui=P_0x177d4866620_20&reconnect=auto\" class=\"pyvi…"
      ]
     },
     "metadata": {},
     "output_type": "display_data"
    }
   ],
   "source": [
    "viewer = graphics.Viewer3D(objects=[sphere, \n",
    "                                    core.copy(),\n",
    "                                    cube.copy(), \n",
    "                                    outcrop.copy().translate([10,10,0], return_object= True),\n",
    "                                    ground.copy().translate([10,10,0], return_object= True),\n",
    "                                    room.copy().translate([10,-10,0], return_object= True),\n",
    "                                    well.copy().translate([10,3,0], return_object= True),\n",
    "                                    target.TargetObject(hills, deep_copy= True).translate([-14,-10,0], return_object= True)],\n",
    "                           target_object_texture= target.get_rock_texture()\n",
    "                           )\n",
    "viewer.show()"
   ]
  },
  {
   "cell_type": "code",
   "execution_count": null,
   "metadata": {},
   "outputs": [],
   "source": []
  }
 ],
 "metadata": {
  "kernelspec": {
   "display_name": "pypho_install",
   "language": "python",
   "name": "python3"
  },
  "language_info": {
   "codemirror_mode": {
    "name": "ipython",
    "version": 3
   },
   "file_extension": ".py",
   "mimetype": "text/x-python",
   "name": "python",
   "nbconvert_exporter": "python",
   "pygments_lexer": "ipython3",
   "version": "3.10.18"
  }
 },
 "nbformat": 4,
 "nbformat_minor": 2
}
