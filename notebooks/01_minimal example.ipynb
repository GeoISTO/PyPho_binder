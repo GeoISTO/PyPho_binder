{
 "cells": [
  {
   "cell_type": "markdown",
   "metadata": {},
   "source": [
    "# Minimal Example"
   ]
  },
  {
   "cell_type": "markdown",
   "metadata": {},
   "source": [
    "This is a minimal example to showcase what can be done with [PyPho](https://github.com/GeoISTO/PyPho).\n",
    "\n",
    "Some key elements you might want to further investigate:\n",
    "1. load or add you camera setting in/from the registry (see [02_camera_definition.ipynb](./02_camera_definition.ipynb) about how to add new camera definitions)\n",
    "2. add an object (see [03_target_objects.ipynb](./03_target_objects.ipynb) for more objects)\n",
    "3. point the camera at the object and take a picture (see [04_camera_manipulation.ipynb](./04_camera_manipulation.ipynb) for more camera manipulations)"
   ]
  },
  {
   "cell_type": "code",
   "execution_count": null,
   "metadata": {},
   "outputs": [],
   "source": [
    "# this is to make pypho available from the local install\n",
    "import sys\n",
    "sys.path.append(\"..\")\n",
    "\n",
    "from pypho import camera, target, graphics\n",
    "import pyvista as pv\n",
    "\n",
    "import pypho\n",
    "print(\"Using PyPho version:\",pypho.__version__)"
   ]
  },
  {
   "cell_type": "code",
   "execution_count": null,
   "metadata": {},
   "outputs": [],
   "source": [
    "# by default using the client side rendering is faster on binder \n",
    "# but it won't update automatically on pypho's update\n",
    "# use \"trame\" backend if automated update is needed\n",
    "pv.set_jupyter_backend('client')"
   ]
  },
  {
   "cell_type": "markdown",
   "metadata": {},
   "source": [
    "## Creating the default scene"
   ]
  },
  {
   "cell_type": "code",
   "execution_count": null,
   "metadata": {},
   "outputs": [],
   "source": [
    "obj, cam, viewer = graphics.get_default_scene()"
   ]
  },
  {
   "cell_type": "code",
   "execution_count": 6,
   "metadata": {},
   "outputs": [],
   "source": [
    "# move the camera around or change its parameters\n",
    "cam.orbit(-30, obj.center)\n",
    "cam.update_aperture(8)\n",
    "cam.focus_on()\n",
    "\n",
    "# when viewer.update() is called, the existing viewer will show the changes \n",
    "viewer.update()"
   ]
  },
  {
   "cell_type": "markdown",
   "metadata": {},
   "source": [
    "### Show properties"
   ]
  },
  {
   "cell_type": "code",
   "execution_count": 7,
   "metadata": {},
   "outputs": [],
   "source": [
    "#to show a property\n",
    "viewer.set_active_scalars(\"resolution\")"
   ]
  },
  {
   "cell_type": "code",
   "execution_count": null,
   "metadata": {},
   "outputs": [],
   "source": [
    "# to list the properties use either obj.point_data.keys() or obj.point_data\n",
    "fields = obj.point_data.keys()\n",
    "for c in [fields[i::4] for i in range(4)]:\n",
    "    print(\"\".join([f\"{c_i:<24}\" for c_i in c]))"
   ]
  },
  {
   "cell_type": "code",
   "execution_count": null,
   "metadata": {},
   "outputs": [],
   "source": []
  }
 ],
 "metadata": {
  "kernelspec": {
   "display_name": "test_binder",
   "language": "python",
   "name": "python3"
  },
  "language_info": {
   "codemirror_mode": {
    "name": "ipython",
    "version": 3
   },
   "file_extension": ".py",
   "mimetype": "text/x-python",
   "name": "python",
   "nbconvert_exporter": "python",
   "pygments_lexer": "ipython3",
   "version": "3.11.6"
  }
 },
 "nbformat": 4,
 "nbformat_minor": 2
}
