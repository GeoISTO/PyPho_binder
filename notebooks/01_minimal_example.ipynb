{
 "cells": [
  {
   "cell_type": "markdown",
   "metadata": {},
   "source": [
    "# PyPho: Minimal Example"
   ]
  },
  {
   "cell_type": "markdown",
   "metadata": {},
   "source": [
    "[PyPho](https://github.com/GeoISTO/PyPho) is a python package for investigating **photogrammetric design**.  \n",
    "This is a minimal example to showcase what can be done with [PyPho](https://github.com/GeoISTO/PyPho).  \n",
    "\n",
    "Here you are in a Jupyter Notebook, where Pypho best works, but it can also be used in other python environments.  \n",
    "If you are not familiar with Jupyter notebooks, see [Try Jupyter](https://try.jupyter.org/).  \n",
    "If you are in a rush, just press ```Shift + Enter``` to run the cells and go to the next.\n",
    "\n",
    "In this minimal example, you'll learn to:\n",
    "1. Load pypho package\n",
    "1. Tell the rendering to execute on the server side to allow updates to work automatically.\n",
    "1. Create a basic scene to test pypho\n",
    "1. Move the camera\n",
    "1. Change the camera aperture\n",
    "1. Change the property shown on the object.\n",
    "\n",
    "Some key elements you might want to further investigate with PyPho:\n",
    "1. load or add you camera setting in/from the registry (see [02_camera_definition.ipynb](./02_camera_definition.ipynb) about how to add new camera definitions)\n",
    "2. add an object (see [03_target_objects.ipynb](./03_target_objects.ipynb) for more objects)\n",
    "3. point the camera at the object and take a picture (see [04_camera_manipulation.ipynb](./04_camera_manipulation.ipynb) for more camera manipulations)"
   ]
  },
  {
   "cell_type": "code",
   "execution_count": null,
   "metadata": {},
   "outputs": [],
   "source": [
    "# this is to make pypho available from the local install\n",
    "import sys\n",
    "sys.path.append(\"..\")\n",
    "\n",
    "import pypho\n",
    "print(\"Using PyPho version:\", pypho.__version__)\n",
    "from pypho import camera, target, graphics"
   ]
  },
  {
   "cell_type": "code",
   "execution_count": null,
   "metadata": {},
   "outputs": [],
   "source": [
    "# by default using the client side rendering is faster on binder \n",
    "# but it won't update automatically on pypho's update\n",
    "# use \"trame\" backend if automated update is needed\n",
    "import pyvista as pv\n",
    "pv.set_jupyter_backend('trame') # here updates are needed "
   ]
  },
  {
   "cell_type": "markdown",
   "metadata": {},
   "source": [
    "## Creating the default scene"
   ]
  },
  {
   "cell_type": "markdown",
   "metadata": {},
   "source": [
    "**Pypho** provides 3 main entities used to investigate photogrammetry settings.  \n",
    " * `Camera`: is the main object to emulate a photographic camera\n",
    " * `TargetObject`: represents the different possible physical object that can be taken in pictures\n",
    " * `Viewer3D`: provides a 3D view to see Camera and observed objects\n",
    "\n",
    "In the next cell, `pypho.graphics.get_default_scene()` generates a default scene.  \n",
    "It returns an object, a camera, and a viewer, which is automatically rendered."
   ]
  },
  {
   "cell_type": "code",
   "execution_count": null,
   "metadata": {},
   "outputs": [],
   "source": [
    "obj, cam, viewer = pypho.graphics.get_default_scene()"
   ]
  },
  {
   "cell_type": "markdown",
   "metadata": {},
   "source": [
    "## Moving the camera around"
   ]
  },
  {
   "cell_type": "code",
   "execution_count": null,
   "metadata": {},
   "outputs": [],
   "source": [
    "# move the camera around or change its parameters\n",
    "cam.orbit(-30, obj.center)\n",
    "\n",
    "# when viewer.update() is called, the existing viewer will show the changes \n",
    "viewer.update()"
   ]
  },
  {
   "cell_type": "code",
   "execution_count": null,
   "metadata": {},
   "outputs": [],
   "source": [
    "# change aperture to see the field depth evolve\n",
    "cam.update_aperture(11)\n",
    "cam.focus_on()"
   ]
  },
  {
   "cell_type": "markdown",
   "metadata": {},
   "source": [
    "See [04_camera_manipulation.ipynb](./04_camera_manipulation.ipynb) for more examples on how to manipulate cameras."
   ]
  },
  {
   "cell_type": "markdown",
   "metadata": {},
   "source": [
    "### Show properties"
   ]
  },
  {
   "cell_type": "code",
   "execution_count": 7,
   "metadata": {},
   "outputs": [],
   "source": [
    "#to show a property\n",
    "viewer.set_active_scalars(\"resolution\")"
   ]
  },
  {
   "cell_type": "code",
   "execution_count": null,
   "metadata": {},
   "outputs": [],
   "source": [
    "# to list the properties use either obj.point_data.keys() or obj.point_data\n",
    "fields = obj.point_data.keys()\n",
    "for c in [fields[i::4] for i in range(4)]:\n",
    "    print(\"\".join([f\"{c_i:<24}\" for c_i in c]))"
   ]
  },
  {
   "cell_type": "code",
   "execution_count": null,
   "metadata": {},
   "outputs": [],
   "source": []
  }
 ],
 "metadata": {
  "kernelspec": {
   "display_name": "test_binder",
   "language": "python",
   "name": "python3"
  },
  "language_info": {
   "codemirror_mode": {
    "name": "ipython",
    "version": 3
   },
   "file_extension": ".py",
   "mimetype": "text/x-python",
   "name": "python",
   "nbconvert_exporter": "python",
   "pygments_lexer": "ipython3",
   "version": "3.11.6"
  }
 },
 "nbformat": 4,
 "nbformat_minor": 2
}
