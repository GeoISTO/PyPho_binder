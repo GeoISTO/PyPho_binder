{
 "cells": [
  {
   "cell_type": "markdown",
   "metadata": {},
   "source": [
    "# Camera Manipulation"
   ]
  },
  {
   "cell_type": "markdown",
   "metadata": {},
   "source": [
    "This is a notebook to demonstrate how **pypho**'s cameras can be manipulated.\n",
    "\n",
    "Typically, you'll want to:\n",
    "1. create a Camera\n",
    "2. attach objects to be visualised with it\n",
    "3. move the camera around\n",
    "4. change its internal parameters (e.g., focal, aperture)\n",
    "5. take a picture\n",
    "6. and repeat some of the previous stages.\n",
    "\n",
    "<p style=\"text-align:left;\">\n",
    "    Previous page: <a href=\"./03_target_objects.ipynb\">Target objects</a>\n",
    "    <span style=\"float:right;\">\n",
    "    This is the last page.\n",
    "    </span>\n",
    "</p>"
   ]
  },
  {
   "cell_type": "code",
   "execution_count": 106,
   "metadata": {},
   "outputs": [
    {
     "name": "stdout",
     "output_type": "stream",
     "text": [
      "Using PyPho version: 0.0.4\n"
     ]
    }
   ],
   "source": [
    "# this is to make pypho available from the local install\n",
    "import sys\n",
    "sys.path.append(\"..\")\n",
    "\n",
    "import numpy as np\n",
    "import pypho\n",
    "print(\"Using PyPho version:\", pypho.__version__)\n",
    "from pypho import camera, target, graphics"
   ]
  },
  {
   "cell_type": "code",
   "execution_count": null,
   "metadata": {},
   "outputs": [],
   "source": [
    "# by default using the client side rendering is faster on binder \n",
    "# but it won't update automatically on pypho's update\n",
    "# use \"trame\" backend if automated update is needed\n",
    "import pyvista as pv\n",
    "pv.set_jupyter_backend('trame') # here updates are needed "
   ]
  },
  {
   "cell_type": "markdown",
   "metadata": {},
   "source": [
    "## Camera creation"
   ]
  },
  {
   "cell_type": "markdown",
   "metadata": {},
   "source": [
    "Cameras can be created either:\n",
    "* from the CameraRegistry, by picking an existing camera definition with `CameraRegistry.get_camera()`.  \n",
    "Note that Cameras are also mounted with a given lens, which must be specified either by its reference in the `CameraRegistry.lense_base` or emulated by specifying its focal length or range.\n",
    "* by copying an existing Camera. When using `Camera.copy()`, a deep copy is performed, which means the two cameras are effectively independent, as expected."
   ]
  },
  {
   "cell_type": "code",
   "execution_count": 2,
   "metadata": {},
   "outputs": [
    {
     "name": "stdout",
     "output_type": "stream",
     "text": [
      "We'll load the camera with the following specifications (camera id: A7RIV, lens id: FE35)\n"
     ]
    },
    {
     "data": {
      "text/plain": [
       "<pypho.camera.Camera at 0x1b2ce15b520>"
      ]
     },
     "execution_count": 2,
     "metadata": {},
     "output_type": "execute_result"
    }
   ],
   "source": [
    "# creating a camera by a full specification from the registry\n",
    "## here we will get the first camera and lens ids from the registry\n",
    "## but you'd want to specify the desired names instead\n",
    "cam1_name = camera.CameraRegistry.camera_base.index[0]\n",
    "cam1_lensname = camera.CameraRegistry.lens_base.index[0]\n",
    "print(\"We'll load the camera with the following specifications \"\n",
    "      f\"(camera id: {cam1_name:}, lens id: {cam1_lensname:})\")\n",
    "cam1 = camera.CameraRegistry.get_camera(cam_id= cam1_name, lens_id= cam1_lensname)\n",
    "\n",
    "# note that a helper function is provided for accessing a default camera\n",
    "# which does exactly the same as the previous lines\n",
    "camera.get_default_camera()\n"
   ]
  },
  {
   "cell_type": "code",
   "execution_count": 3,
   "metadata": {},
   "outputs": [
    {
     "data": {
      "text/plain": [
       "<pypho.camera.Camera at 0x1b2ce2bfb20>"
      ]
     },
     "execution_count": 3,
     "metadata": {},
     "output_type": "execute_result"
    }
   ],
   "source": [
    "# Alternatively, as lenses are not always very well defined \n",
    "# at the stage of designing a photogrammetric study, it can be avoided,\n",
    "# if at least the focal length or focal range,a nd the minimal focus distance, are specified instead.\n",
    "cam2 = camera.CameraRegistry.get_camera(cam_id= \"A7RIV\", focal= 35, min_focus_distance= 0.30)\n",
    "cam2"
   ]
  },
  {
   "cell_type": "code",
   "execution_count": 4,
   "metadata": {},
   "outputs": [
    {
     "name": "stdout",
     "output_type": "stream",
     "text": [
      "Are the two cameras different objects?  True\n"
     ]
    }
   ],
   "source": [
    "# finally, it might be usefull to duplicate a camera from the current settings\n",
    "cam3 = cam2.copy()\n",
    "# of course it makes more sense to do it after some modifications of its state\n",
    "\n",
    "# the two cameras are effectively different entities and will move separately\n",
    "print(\"Are the two cameras different objects? \",cam3 != cam2)"
   ]
  },
  {
   "cell_type": "code",
   "execution_count": 5,
   "metadata": {},
   "outputs": [
    {
     "data": {
      "text/plain": [
       "<pypho.camera.Camera at 0x1b2ce2bf040>"
      ]
     },
     "execution_count": 5,
     "metadata": {},
     "output_type": "execute_result"
    }
   ],
   "source": [
    "# Alternatively, a custom Camera can be created directly, provided the following minimal parameters are given\n",
    "# sensor_width, sensor_height, nb_pixel_width, nb_pixel_height, and focal\n",
    "camera.Camera(\n",
    "    sensor_width = 23.6, sensor_height= 15.7, nb_pixel_width= 3200, nb_pixel_height= 2126,\n",
    "    focal = 35\n",
    "    )"
   ]
  },
  {
   "cell_type": "markdown",
   "metadata": {},
   "source": [
    "## Relation to objects and visualisation"
   ]
  },
  {
   "cell_type": "markdown",
   "metadata": {},
   "source": [
    "Camera only makes sense for shooting objects,  \n",
    "so **pypho** provides tools for defining new objects (see [03_target_objects.ipynb](03_target_objects.ipynb)) and attaching the object ot the cameras `Camera.attach_target()`."
   ]
  },
  {
   "cell_type": "code",
   "execution_count": 7,
   "metadata": {},
   "outputs": [],
   "source": [
    "# getting the example dataset Pebble, which is ... a pebble\n",
    "pebble = target.get_pebble_dataset()\n",
    "# we'll move it a bit to make the example more interesting\n",
    "_ = pebble.translate([1.2,1.2,0])"
   ]
  },
  {
   "cell_type": "code",
   "execution_count": 8,
   "metadata": {},
   "outputs": [
    {
     "data": {
      "application/vnd.jupyter.widget-view+json": {
       "model_id": "84e1872b3c224a56bcab827132c13693",
       "version_major": 2,
       "version_minor": 0
      },
      "text/plain": [
       "Widget(value='<iframe src=\"http://localhost:59300/index.html?ui=P_0x1b2ce2bf820_1&reconnect=auto\" class=\"pyvis…"
      ]
     },
     "metadata": {},
     "output_type": "display_data"
    }
   ],
   "source": [
    "# We'll create a viewer to visualize the scene\n",
    "viewer = graphics.Viewer3D( cameras=[cam1,cam2,cam3], objects=[pebble])\n",
    "viewer.show()"
   ]
  },
  {
   "cell_type": "code",
   "execution_count": 9,
   "metadata": {},
   "outputs": [],
   "source": [
    "# the object can be attached to the different cameras,\n",
    "# by default they will automatically aim at the object by rotating towards its center\n",
    "cam1.attach_target(pebble, focus=False)\n",
    "\n",
    "# we can tell it to translate instead of rotating\n",
    "cam2.attach_target(pebble, rotate= False, focus=False)\n",
    "\n",
    "# or not to move at all\n",
    "cam3.attach_target(pebble, aim= False, focus=False)\n",
    "\n",
    "# to see the changes, update the viewer\n",
    "viewer.update()"
   ]
  },
  {
   "cell_type": "markdown",
   "metadata": {},
   "source": [
    "## Moving cameras"
   ]
  },
  {
   "cell_type": "markdown",
   "metadata": {},
   "source": [
    "One of the most basic functionnality of Camera is their ability to be moved around the scene to visualise the effect of the Camera's positionning on the picture and photogrammetry results.\n",
    "\n",
    "Cameras can be moved around in different ways:\n",
    "1. updating the view parameters with `Camera.update_view()`. In this case, some parameters can be omited.\n",
    "1. translating the Camera with the `Camera.move()` method, either relative to the camera orientation or as a vector of the 3D space.\n",
    "1. turning the Camera, i.e., with respect to its current orientation, left, right, up, down, or rolling left or right. This is achieved with the `Camera.turn()` method.\n",
    "1. moving the camera by orbiting around a given point and axis. This is achieved with the `Camera.orbit()` method and is particularly useful for the displacement you'd make to take successive pictures of an object by turning around it. Note that most objects in pypho have a .center attribute that can be used here, the target pointed by the camera is also a good candidate to turn around (default)."
   ]
  },
  {
   "cell_type": "markdown",
   "metadata": {},
   "source": [
    "### update_view()"
   ]
  },
  {
   "cell_type": "markdown",
   "metadata": {},
   "source": [
    "Run the following cells one by one to see the effect."
   ]
  },
  {
   "cell_type": "code",
   "execution_count": 10,
   "metadata": {},
   "outputs": [
    {
     "data": {
      "application/vnd.jupyter.widget-view+json": {
       "model_id": "a2d3cecd855f4ca0b558a395cdbd2d0d",
       "version_major": 2,
       "version_minor": 0
      },
      "text/plain": [
       "Widget(value='<iframe src=\"http://localhost:59300/index.html?ui=P_0x1b2f17a4940_2&reconnect=auto\" class=\"pyvis…"
      ]
     },
     "metadata": {},
     "output_type": "display_data"
    }
   ],
   "source": [
    "viewer.show()"
   ]
  },
  {
   "cell_type": "code",
   "execution_count": 11,
   "metadata": {},
   "outputs": [],
   "source": [
    "cam1.update_view(location=[1,0.3,0.1])\n",
    "viewer.update()"
   ]
  },
  {
   "cell_type": "code",
   "execution_count": 12,
   "metadata": {},
   "outputs": [],
   "source": [
    "cam1.update_view(yaw=30)\n",
    "viewer.update()"
   ]
  },
  {
   "cell_type": "code",
   "execution_count": 13,
   "metadata": {},
   "outputs": [],
   "source": [
    "cam1.update_view(pitch=10)\n",
    "viewer.update()"
   ]
  },
  {
   "cell_type": "code",
   "execution_count": 14,
   "metadata": {},
   "outputs": [],
   "source": [
    "cam1.update_view(roll= -10)\n",
    "viewer.update()"
   ]
  },
  {
   "cell_type": "code",
   "execution_count": 15,
   "metadata": {},
   "outputs": [],
   "source": [
    "cam1.update_view(orientation= \"portrait\")\n",
    "viewer.update()"
   ]
  },
  {
   "cell_type": "markdown",
   "metadata": {},
   "source": [
    "### move()"
   ]
  },
  {
   "cell_type": "code",
   "execution_count": 16,
   "metadata": {},
   "outputs": [
    {
     "data": {
      "application/vnd.jupyter.widget-view+json": {
       "model_id": "6b90f2821f69408c9d5b44cd07814965",
       "version_major": 2,
       "version_minor": 0
      },
      "text/plain": [
       "Widget(value='<iframe src=\"http://localhost:59300/index.html?ui=P_0x1b2f17ad630_3&reconnect=auto\" class=\"pyvis…"
      ]
     },
     "metadata": {},
     "output_type": "display_data"
    }
   ],
   "source": [
    "viewer.show()"
   ]
  },
  {
   "cell_type": "code",
   "execution_count": 17,
   "metadata": {},
   "outputs": [],
   "source": [
    "cam2.move([0,0,0.3])\n",
    "viewer.update()"
   ]
  },
  {
   "cell_type": "code",
   "execution_count": 18,
   "metadata": {},
   "outputs": [],
   "source": [
    "cam3.move(0.5)\n",
    "viewer.update()"
   ]
  },
  {
   "cell_type": "code",
   "execution_count": 19,
   "metadata": {},
   "outputs": [],
   "source": [
    "cam3.move(0.5, direction= \"left\")\n",
    "viewer.update()"
   ]
  },
  {
   "cell_type": "code",
   "execution_count": 20,
   "metadata": {},
   "outputs": [],
   "source": [
    "cam3.move(0.25, direction= \"right\")\n",
    "viewer.update()"
   ]
  },
  {
   "cell_type": "code",
   "execution_count": 22,
   "metadata": {},
   "outputs": [],
   "source": [
    "cam3.move(0.25, direction= \"up\")\n",
    "viewer.update()"
   ]
  },
  {
   "cell_type": "code",
   "execution_count": 23,
   "metadata": {},
   "outputs": [],
   "source": [
    "cam3.move(0.15, direction= \"down\")\n",
    "viewer.update()"
   ]
  },
  {
   "cell_type": "code",
   "execution_count": 24,
   "metadata": {},
   "outputs": [],
   "source": [
    "cam3.move(0.25, direction= \"backward\")\n",
    "viewer.update()"
   ]
  },
  {
   "cell_type": "code",
   "execution_count": 25,
   "metadata": {},
   "outputs": [],
   "source": [
    "cam3.move(0.15, direction= \"forward\")\n",
    "viewer.update()"
   ]
  },
  {
   "cell_type": "markdown",
   "metadata": {},
   "source": [
    "### turn()"
   ]
  },
  {
   "cell_type": "code",
   "execution_count": 26,
   "metadata": {},
   "outputs": [
    {
     "data": {
      "application/vnd.jupyter.widget-view+json": {
       "model_id": "7b2b8c67425b466f870f257a8361ba03",
       "version_major": 2,
       "version_minor": 0
      },
      "text/plain": [
       "Widget(value='<iframe src=\"http://localhost:59300/index.html?ui=P_0x1b2f17aeb90_4&reconnect=auto\" class=\"pyvis…"
      ]
     },
     "metadata": {},
     "output_type": "display_data"
    }
   ],
   "source": [
    "viewer.show()"
   ]
  },
  {
   "cell_type": "code",
   "execution_count": 27,
   "metadata": {},
   "outputs": [],
   "source": [
    "cam2.turn(10)\n",
    "viewer.update()"
   ]
  },
  {
   "cell_type": "code",
   "execution_count": 28,
   "metadata": {},
   "outputs": [],
   "source": [
    "cam2.turn(10, direction= \"left\")\n",
    "viewer.update()"
   ]
  },
  {
   "cell_type": "code",
   "execution_count": 29,
   "metadata": {},
   "outputs": [],
   "source": [
    "cam2.turn(10, direction= \"right\")\n",
    "viewer.update()"
   ]
  },
  {
   "cell_type": "code",
   "execution_count": 30,
   "metadata": {},
   "outputs": [],
   "source": [
    "cam2.turn(10, direction= \"up\")\n",
    "viewer.update()"
   ]
  },
  {
   "cell_type": "code",
   "execution_count": 31,
   "metadata": {},
   "outputs": [],
   "source": [
    "cam2.turn(10, direction= \"down\")\n",
    "viewer.update()"
   ]
  },
  {
   "cell_type": "code",
   "execution_count": 32,
   "metadata": {},
   "outputs": [],
   "source": [
    "cam2.turn(10, direction= \"roll_left\")\n",
    "viewer.update()"
   ]
  },
  {
   "cell_type": "code",
   "execution_count": 33,
   "metadata": {},
   "outputs": [],
   "source": [
    "cam2.turn(10, direction= \"roll_right\")\n",
    "viewer.update()"
   ]
  },
  {
   "cell_type": "markdown",
   "metadata": {},
   "source": [
    "### orbit()"
   ]
  },
  {
   "cell_type": "code",
   "execution_count": 34,
   "metadata": {},
   "outputs": [
    {
     "data": {
      "application/vnd.jupyter.widget-view+json": {
       "model_id": "c3a655d1957741c6a78cc92347644251",
       "version_major": 2,
       "version_minor": 0
      },
      "text/plain": [
       "Widget(value='<iframe src=\"http://localhost:59300/index.html?ui=P_0x1b2ff1d6080_5&reconnect=auto\" class=\"pyvis…"
      ]
     },
     "metadata": {},
     "output_type": "display_data"
    }
   ],
   "source": [
    "cam2.aim_at()\n",
    "cam2.move(0.7)\n",
    "cam2.focus_on()\n",
    "viewer.show()"
   ]
  },
  {
   "cell_type": "code",
   "execution_count": 35,
   "metadata": {},
   "outputs": [],
   "source": [
    "# orbit around the target point\n",
    "cam2.orbit(10)\n",
    "viewer.update()"
   ]
  },
  {
   "cell_type": "code",
   "execution_count": 37,
   "metadata": {},
   "outputs": [],
   "source": [
    "# orbit around the object center\n",
    "cam2.orbit(10, around= pebble)\n",
    "viewer.update()"
   ]
  },
  {
   "cell_type": "code",
   "execution_count": 38,
   "metadata": {},
   "outputs": [],
   "source": [
    "# orbit around a point\n",
    "cam2.orbit(10, around= [0.9,1,0])\n",
    "viewer.update()"
   ]
  },
  {
   "cell_type": "code",
   "execution_count": 42,
   "metadata": {},
   "outputs": [],
   "source": [
    "# orbit given an axis of rotation\n",
    "cam2.orbit(10, around= pebble, axis= cam2.w_vector)\n",
    "viewer.update()"
   ]
  },
  {
   "cell_type": "markdown",
   "metadata": {},
   "source": [
    "### Going at a given location or distance"
   ]
  },
  {
   "cell_type": "code",
   "execution_count": 46,
   "metadata": {},
   "outputs": [
    {
     "data": {
      "application/vnd.jupyter.widget-view+json": {
       "model_id": "bab7a2801fed4c86b18ddef64668ab3c",
       "version_major": 2,
       "version_minor": 0
      },
      "text/plain": [
       "Widget(value='<iframe src=\"http://localhost:59300/index.html?ui=P_0x1b2abb97640_9&reconnect=auto\" class=\"pyvis…"
      ]
     },
     "metadata": {},
     "output_type": "display_data"
    },
    {
     "name": "stderr",
     "output_type": "stream",
     "text": [
      "c:\\Users\\glaurent\\Documents\\Outils\\MiniForge\\envs\\pypho_install\\lib\\site-packages\\pyvista\\core\\filters\\poly_data.py:2958: PyVistaDeprecationWarning: `flip_normals` is deprecated. Use `flip_faces` instead. Note that `inplace` is now `False` by default for the new filter.\n",
      "  warnings.warn(\n"
     ]
    }
   ],
   "source": [
    "obj, cam, viewer = graphics.get_default_scene(show= False)\n",
    "viewer.show(show_shots= True, show_cameras= True)\n",
    "cam.trigger(add_to_viewer= False)\n",
    "viewer.set_active_scalars(\"resolution\")"
   ]
  },
  {
   "cell_type": "code",
   "execution_count": 47,
   "metadata": {},
   "outputs": [],
   "source": [
    "cam.move_to(2, \"distance\")\n",
    "viewer.update()"
   ]
  },
  {
   "cell_type": "code",
   "execution_count": 48,
   "metadata": {},
   "outputs": [],
   "source": [
    "# optimize shooting distance for a given resolution\n",
    "cam.move_to(12, \"resolution\")\n",
    "viewer.update()"
   ]
  },
  {
   "cell_type": "markdown",
   "metadata": {},
   "source": [
    "## Camera internals"
   ]
  },
  {
   "cell_type": "markdown",
   "metadata": {},
   "source": [
    "We will now take a configuration with only one camera to illustrate the different internal state parameters that can be modified:\n",
    "* **lens**: first the lens is something that can be modified on the camera and one should be mounted to fully initialise the camera. This is achieved through the `Camera.setup_lens()` method. This was covered at the stage of creating the camera and would usually not be modify after, so it is not detailed here, but know you can change the lens by setting it again with `Camera.setup_lens()`\n",
    "* **focal**: `Camera.focal` represents the focal distance (distance from the sensor to the focal point). Most often in photogrammetry, you'd want to use fixed focal cameras for the stability of the photogrammetric computations, so this is automatically determined when initialising the camera from the lens database definition, or when changing the lens. However, **pypho** also offers the possibility to change the focal, for completeness and overall to make it easier to investigate the effect of a focal change without creating a new camera. This is achieved through the `Camera_update_focal()` method and will consequently update the magnification (see focus section) and the field of view, defined by the angles made by the focal point and the width/height of the sensor.\n",
    "* **focus**: `Camera.focus_on()` will change the distance (from the focal point) to the focus plan, represented by `Camera.Z`, and will consequently affect the magnification and sharpness zone of the camera. Magnification is stored by `Camera.magnification` and is defined by the Z/f ratio. The sharpness zone of the camera is defined by the first and last planes that encompass the volume where an object will appear as focussed on the sensor (`Camera.Z1` and `Camera.Z2` being the distances to the first and last sharp planes respectively). This depends on the definition of the sensor and more particularly on the size of the confusion circle (`Camera.confusion_circle_diameter`), which represents diameter of the largest disk on the sensor that would be assimilated to a single point. Any sharp object that is located outside this sharpness zone will focalised  on the sensor as a spread spot larger than the confusion circle and will be viewed as blurred. To compute the sharpness zone, the camera relies on the key distance referred to as hyperfocal (`Camera.H`). When focussing at this distance, the sharpness zone will extend from half the hyperfocal to the infinity. In photogrammetry, we tend to aim at closer objects, so this trick is rarelly used, but computing the sharpness zone still rely on the hyperfocal. Finally, the total depth of the sharpness zone is stored as `Camera.depth_of_field`.\n",
    "* **aperture**: last, but note the least of the parameters, the aperture of the diaphragme is key in the process of taking good pictures of an object for photogrammetry. The aperture is represented by the diameter of the diaphragme and expressed as a ratio $N$ of the focal distance $d = f/N$, therefore, the larger the aperture number $N$ is the more closed the diaphragme. The aperture has two effects: (1) it controls the amount of light that reaches the sensor and (2) it affects the sharpness zone because when the diaphragme is opened smaller, the rays of light arrive more parallel to each others and focalise in a spot that is less spread. However, further closing the diaphragm dramatically increases the effect of diffraction after a certain level of aperture. It is initially neglectible, but it can completely remove the sharpness zone if $N$ is too big. The sharpness zone including the effect of diffraction is shown in green, the zone without diffraction effect is in orange. \n",
    "\n",
    "Note that the question of the amount of light entering the camera, which involves the aperture but also the shutter speed and sensor sensitivity (ISO), is not considered here. Of course, it is crucial for taking good pictures, but we consider this can be achieved by adapting the ISO of the sensor and on the other hand proves difficult to predict in a reliable way through computations."
   ]
  },
  {
   "cell_type": "code",
   "execution_count": 64,
   "metadata": {},
   "outputs": [
    {
     "data": {
      "application/vnd.jupyter.widget-view+json": {
       "model_id": "e7ba3a2b53384201b820c746afa5c255",
       "version_major": 2,
       "version_minor": 0
      },
      "text/plain": [
       "Widget(value='<iframe src=\"http://localhost:59300/index.html?ui=P_0x1b2abb94a30_15&reconnect=auto\" class=\"pyvi…"
      ]
     },
     "metadata": {},
     "output_type": "display_data"
    }
   ],
   "source": [
    "# lets start with a new camera and object\n",
    "cam = camera.get_default_camera()\n",
    "obj = target.Sphere(radius= 0.25, translation= [1,0,0])\n",
    "cam.attach_target(obj, rotate=False)\n",
    "viewer = graphics.Viewer3D(cam,obj, plot_sharpness_object= True, plot_sharpness_object_edges= True)\n",
    "viewer.show()\n",
    "viewer.plotter.camera.position = [0.7,3,0.25]\n",
    "viewer.plotter.camera.focal_point = [0.7,0,0.25]\n",
    "viewer.plotter.camera.up = [0,0,1]\n",
    "viewer.plotter.parallel_projection = True"
   ]
  },
  {
   "cell_type": "markdown",
   "metadata": {},
   "source": [
    "### Focal change"
   ]
  },
  {
   "cell_type": "code",
   "execution_count": 65,
   "metadata": {},
   "outputs": [
    {
     "data": {
      "application/vnd.jupyter.widget-view+json": {
       "model_id": "a9bd02cfc7dd4955b66df9c6aef1f0d2",
       "version_major": 2,
       "version_minor": 0
      },
      "text/plain": [
       "Widget(value='<iframe src=\"http://localhost:59300/index.html?ui=P_0x1b2abb956f0_16&reconnect=auto\" class=\"pyvi…"
      ]
     },
     "metadata": {},
     "output_type": "display_data"
    }
   ],
   "source": [
    "# first we can see how the view changes when changing the focal\n",
    "# Note that the example lens is a fixed focal so we have to force this change (force=True)\n",
    "cam.update_focal(90, force=True)\n",
    "viewer.show()\n",
    "viewer.plotter.camera.position = [0.7,3,0.25]\n",
    "viewer.plotter.camera.focal_point = [0.7,0,0.25]\n",
    "viewer.plotter.camera.up = [0,0,1]\n",
    "viewer.plotter.parallel_projection = True"
   ]
  },
  {
   "cell_type": "code",
   "execution_count": 66,
   "metadata": {},
   "outputs": [],
   "source": [
    "# To avoid forcing the focal change, we could change the lense for a variable focal one\n",
    "cam.setup_lens(lens_id=None, min_focus_distance=0.3, focal_min=35, focal_max=150)\n",
    "cam.update_focal(100)\n",
    "cam.focus_on()\n",
    "viewer.update()"
   ]
  },
  {
   "cell_type": "code",
   "execution_count": 67,
   "metadata": {},
   "outputs": [],
   "source": [
    "# let's put back the initial lens\n",
    "cam.setup_lens(lens_id= camera.CameraRegistry.lens_base.index[0])\n",
    "cam.focus_on()\n",
    "viewer.update()"
   ]
  },
  {
   "cell_type": "markdown",
   "metadata": {},
   "source": [
    "### Focus change"
   ]
  },
  {
   "cell_type": "code",
   "execution_count": 69,
   "metadata": {},
   "outputs": [
    {
     "data": {
      "application/vnd.jupyter.widget-view+json": {
       "model_id": "1a0ee5868ca24419b616c0f761f722cc",
       "version_major": 2,
       "version_minor": 0
      },
      "text/plain": [
       "Widget(value='<iframe src=\"http://localhost:59300/index.html?ui=P_0x1b2abb97190_17&reconnect=auto\" class=\"pyvi…"
      ]
     },
     "metadata": {},
     "output_type": "display_data"
    }
   ],
   "source": [
    "# We can change where the camera is focussed on\n",
    "# either giving it a single point\n",
    "cam.focus_on(obj.center)\n",
    "viewer.show()\n",
    "viewer.plotter.camera.position = [0.7,3,0.25]\n",
    "viewer.plotter.camera.focal_point = [0.7,0,0.25]\n",
    "viewer.plotter.camera.up = [0,0,1]\n",
    "viewer.plotter.parallel_projection = True"
   ]
  },
  {
   "cell_type": "code",
   "execution_count": 70,
   "metadata": {},
   "outputs": [],
   "source": [
    "# ... or a series of points,\n",
    "# by default the nearest is taken\n",
    "cam.focus_on(obj.points)\n",
    "viewer.update()"
   ]
  },
  {
   "cell_type": "code",
   "execution_count": 71,
   "metadata": {},
   "outputs": [],
   "source": [
    "# ... but we can also change this and specify \n",
    "# how to define a location to focus on base on the passed points\n",
    "# by giving it the method\n",
    "cam.focus_on(obj.points, method= np.max)\n",
    "viewer.update()"
   ]
  },
  {
   "cell_type": "code",
   "execution_count": 72,
   "metadata": {},
   "outputs": [],
   "source": [
    "# alternatively a pyvista object can be given directly and its points will be used\n",
    "cam.focus_on(obj.bounding_box())\n",
    "viewer.update()"
   ]
  },
  {
   "cell_type": "markdown",
   "metadata": {},
   "source": [
    "### Aperture Change"
   ]
  },
  {
   "cell_type": "code",
   "execution_count": 76,
   "metadata": {},
   "outputs": [
    {
     "data": {
      "application/vnd.jupyter.widget-view+json": {
       "model_id": "f939896a81254ad2bd47224c45f03e4f",
       "version_major": 2,
       "version_minor": 0
      },
      "text/plain": [
       "Widget(value='<iframe src=\"http://localhost:59300/index.html?ui=P_0x1b30cbd9f00_20&reconnect=auto\" class=\"pyvi…"
      ]
     },
     "metadata": {},
     "output_type": "display_data"
    }
   ],
   "source": [
    "# the aperture can also be modified and will mainly affect the sharpness zone\n",
    "cam.update_aperture(N= 4)\n",
    "viewer.show()\n",
    "viewer.plotter.camera.position = [0.7,3,0.25]\n",
    "viewer.plotter.camera.focal_point = [0.7,0,0.25]\n",
    "viewer.plotter.camera.up = [0,0,1]\n",
    "viewer.plotter.parallel_projection = True"
   ]
  },
  {
   "cell_type": "code",
   "execution_count": 77,
   "metadata": {},
   "outputs": [],
   "source": [
    "cam.update_aperture(N= 8)\n",
    "viewer.update()"
   ]
  },
  {
   "cell_type": "markdown",
   "metadata": {},
   "source": [
    "Note that the green zone is where the image is sharp and the orange one is where it would be sharp without the effect of diffraction."
   ]
  },
  {
   "cell_type": "markdown",
   "metadata": {},
   "source": [
    "## Optimizing the camera parameters"
   ]
  },
  {
   "cell_type": "markdown",
   "metadata": {},
   "source": [
    "This is work in progress. In the future there will be:\n",
    "* optimisation of Z for a given resolution\n",
    "* optimisation of the focus to place as much as possible of the target in the sharpness zone\n",
    "* optimisation of the aperture likewise"
   ]
  },
  {
   "cell_type": "markdown",
   "metadata": {},
   "source": [
    "### Optimize distance to get a given resolution"
   ]
  },
  {
   "cell_type": "code",
   "execution_count": 78,
   "metadata": {},
   "outputs": [
    {
     "data": {
      "application/vnd.jupyter.widget-view+json": {
       "model_id": "8774e391a26544ab8d39a08337ee3b2a",
       "version_major": 2,
       "version_minor": 0
      },
      "text/plain": [
       "Widget(value='<iframe src=\"http://localhost:59300/index.html?ui=P_0x1b382bcc0d0_22&reconnect=auto\" class=\"pyvi…"
      ]
     },
     "metadata": {},
     "output_type": "display_data"
    }
   ],
   "source": [
    "obj, cam, viewer = graphics.get_default_scene()\n",
    "viewer.set_active_scalars(\"resolution\")"
   ]
  },
  {
   "cell_type": "code",
   "execution_count": 79,
   "metadata": {},
   "outputs": [],
   "source": [
    "target_resolution = 6 # pix/mm\n",
    "\n",
    "cam.move_to(target_resolution, mode=\"resolution\")\n",
    "\n",
    "cam.update_aperture()\n",
    "viewer.update(update_active_scalars=True)\n"
   ]
  },
  {
   "cell_type": "markdown",
   "metadata": {},
   "source": [
    "### Optimise aperture"
   ]
  },
  {
   "cell_type": "code",
   "execution_count": 80,
   "metadata": {},
   "outputs": [
    {
     "name": "stdout",
     "output_type": "stream",
     "text": [
      "N: 22\n",
      "Depth of field with diffraction: 0.00 cm\n"
     ]
    }
   ],
   "source": [
    "# using a large aperture number makes the sharpness zone larger (orange)\n",
    "# but diffraction becomes predominant and the really sharp zone disapears(green)\n",
    "cam.update_aperture(22)\n",
    "viewer.set_active_scalars(\"blur_spot_diameter\")\n",
    "viewer.update()\n",
    "print(\"N:\",cam.N)\n",
    "print(\"Depth of field with diffraction: {:.2f} cm\".format(100 * cam.depth_of_field_diffraction_included))"
   ]
  },
  {
   "cell_type": "code",
   "execution_count": 81,
   "metadata": {},
   "outputs": [
    {
     "name": "stdout",
     "output_type": "stream",
     "text": [
      "N: 6.35\n",
      "Depth of field with diffraction: 13.31 cm\n"
     ]
    }
   ],
   "source": [
    "# the optimal N considering diffraction can be accessed as follows\n",
    "N_optim = cam.compute_optimal_aperture()\n",
    "cam.update_aperture(N_optim)\n",
    "viewer.update()\n",
    "print(\"N:\",cam.N)\n",
    "print(\"Depth of field with diffraction: {:.2f} cm\".format(100 * cam.depth_of_field_diffraction_included))"
   ]
  },
  {
   "cell_type": "code",
   "execution_count": 82,
   "metadata": {},
   "outputs": [
    {
     "name": "stdout",
     "output_type": "stream",
     "text": [
      "N: 1.4\n",
      "Depth of field with diffraction: 6.71 cm\n"
     ]
    }
   ],
   "source": [
    "# when focusing on a new target point, aperture is not changed by default\n",
    "cam.update_aperture(1.4)\n",
    "cam.focus_on(obj.center)\n",
    "viewer.update()\n",
    "print(\"N:\",cam.N)\n",
    "print(\"Depth of field with diffraction: {:.2f} cm\".format(100 * cam.depth_of_field_diffraction_included))"
   ]
  },
  {
   "cell_type": "code",
   "execution_count": 83,
   "metadata": {},
   "outputs": [
    {
     "name": "stdout",
     "output_type": "stream",
     "text": [
      "N: 6.35\n",
      "Depth of field with diffraction: 22.24 cm\n"
     ]
    }
   ],
   "source": [
    "# but it can be optimized with the optional optim_N\n",
    "cam.focus_on(obj.center, optimize_N=True)\n",
    "viewer.update()\n",
    "print(\"N:\",cam.N)\n",
    "print(\"Depth of field with diffraction: {:.2f} cm\".format(100 * cam.depth_of_field_diffraction_included))"
   ]
  },
  {
   "cell_type": "markdown",
   "metadata": {},
   "source": [
    "## Optimizing sharpness zone\n",
    "\n",
    "For photogrammetry, the object must be as sharp as possible,\n",
    "ideally in all its visible parts, or at least in the closest part of the object.\n",
    "\n",
    "This can be optimized under different conditions.\n",
    "\n",
    "The result of this optimisation is shown in the graph below."
   ]
  },
  {
   "cell_type": "code",
   "execution_count": 86,
   "metadata": {},
   "outputs": [
    {
     "data": {
      "application/vnd.jupyter.widget-view+json": {
       "model_id": "874e9594b6364d36ad1b9d6d736163e3",
       "version_major": 2,
       "version_minor": 0
      },
      "text/plain": [
       "Widget(value='<iframe src=\"http://localhost:59300/index.html?ui=P_0x1b4059a65f0_26&reconnect=auto\" class=\"pyvi…"
      ]
     },
     "metadata": {},
     "output_type": "display_data"
    }
   ],
   "source": [
    "obj, cam, viewer = graphics.get_default_scene(dist= 2)\n",
    "\n",
    "obj.subdivide(1, \"linear\", inplace= True)\n",
    "cam._update_object_view_properties(obj)\n",
    "viewer.update()\n",
    "\n",
    "viewer.set_active_scalars(\"blur_spot_diameter\")\n",
    "facing = obj.point_data[\"facing_b\"]\n",
    "target_points = obj.points[facing]\n",
    "\n",
    "target_zx = cam._compute_camera_coordinates(target_points)[:,0]"
   ]
  },
  {
   "cell_type": "code",
   "execution_count": 87,
   "metadata": {},
   "outputs": [],
   "source": [
    "# ignoring diffraction, make the closest target points sharp\n",
    "res = cam.optimize_sharpness(target_points= target_points, \n",
    "        use_diffraction= False, mode= \"front\"\n",
    "        )\n",
    "viewer.update()"
   ]
  },
  {
   "cell_type": "code",
   "execution_count": 88,
   "metadata": {},
   "outputs": [],
   "source": [
    "# ignoring diffraction, balance the sharpness zone and optimize the aperture\n",
    "res = cam.optimize_sharpness(target_points= target_points, \n",
    "        use_diffraction= False, mode= \"middle\", optimize_N= True\n",
    "        )\n",
    "viewer.update()"
   ]
  },
  {
   "cell_type": "code",
   "execution_count": 89,
   "metadata": {},
   "outputs": [],
   "source": [
    "# considering diffraction, balance the sharpness zone and optimize the aperture\n",
    "# but don't move the camera, this is limitting the sharpness\n",
    "res = cam.optimize_sharpness(target_points= target_points, \n",
    "        use_diffraction= True, mode= \"middle\", optimize_N= True\n",
    "        )\n",
    "viewer.update()"
   ]
  },
  {
   "cell_type": "code",
   "execution_count": 90,
   "metadata": {},
   "outputs": [
    {
     "name": "stderr",
     "output_type": "stream",
     "text": [
      "c:\\Users\\glaurent\\Documents\\Outils\\MiniForge\\envs\\pypho_install\\lib\\site-packages\\scipy\\optimize\\_slsqp_py.py:435: RuntimeWarning: Values in x were outside bounds during a minimize step, clipping to bounds\n",
      "  fx = wrapped_fun(x)\n"
     ]
    }
   ],
   "source": [
    "# considering diffraction, balance the sharpness zone and optimize the aperture\n",
    "# allow moving the camera to make a larger sharpness zone\n",
    "# this is also longer to compute\n",
    "res = cam.optimize_sharpness(target_points= target_points, \n",
    "        use_diffraction= True, mode= \"middle\", optimize_N= True,\n",
    "        optimize_location= True\n",
    "        )\n",
    "viewer.update()"
   ]
  },
  {
   "cell_type": "code",
   "execution_count": 91,
   "metadata": {},
   "outputs": [
    {
     "data": {
      "image/png": "[encoded data removed]",
      "text/plain": [
       "<Figure size 640x480 with 2 Axes>"
      ]
     },
     "metadata": {},
     "output_type": "display_data"
    }
   ],
   "source": [
    "# we can plot the location of the target points and associated cost\n",
    "# to inspect optimization results\n",
    "# the options must be the same as for the optimisation method\n",
    "graphics.plot_sharpness_optimisation(cam, target_points= target_points, res=res, \n",
    "        use_diffraction= True, mode= \"middle\", optimize_N= True,\n",
    "        optimize_location= True\n",
    "        )"
   ]
  },
  {
   "cell_type": "code",
   "execution_count": 92,
   "metadata": {},
   "outputs": [
    {
     "ename": "AxisError",
     "evalue": "axis 50 is out of bounds for array of dimension 1",
     "output_type": "error",
     "traceback": [
      "\u001b[1;31m---------------------------------------------------------------------------\u001b[0m",
      "\u001b[1;31mAxisError\u001b[0m                                 Traceback (most recent call last)",
      "Cell \u001b[1;32mIn[92], line 2\u001b[0m\n\u001b[0;32m      1\u001b[0m \u001b[38;5;66;03m# finally this is showing the optimisation resulting cost\u001b[39;00m\n\u001b[1;32m----> 2\u001b[0m \u001b[43mgraphics\u001b[49m\u001b[38;5;241;43m.\u001b[39;49m\u001b[43mplot_sharpness_optimisation_cost\u001b[49m\u001b[43m(\u001b[49m\n\u001b[0;32m      3\u001b[0m \u001b[43m    \u001b[49m\u001b[43mcam\u001b[49m\u001b[38;5;241;43m=\u001b[39;49m\u001b[43m \u001b[49m\u001b[43mcam\u001b[49m\u001b[43m,\u001b[49m\u001b[43m \u001b[49m\u001b[43mtarget_points\u001b[49m\u001b[38;5;241;43m=\u001b[39;49m\u001b[43m \u001b[49m\u001b[43mtarget_points\u001b[49m\u001b[43m,\u001b[49m\u001b[43m \u001b[49m\u001b[43mres\u001b[49m\u001b[38;5;241;43m=\u001b[39;49m\u001b[43m \u001b[49m\u001b[43mres\u001b[49m\u001b[43m,\u001b[49m\n\u001b[0;32m      4\u001b[0m \u001b[43m        \u001b[49m\u001b[43muse_diffraction\u001b[49m\u001b[38;5;241;43m=\u001b[39;49m\u001b[43m \u001b[49m\u001b[38;5;28;43;01mTrue\u001b[39;49;00m\u001b[43m,\u001b[49m\u001b[43m \u001b[49m\u001b[43mmode\u001b[49m\u001b[38;5;241;43m=\u001b[39;49m\u001b[43m \u001b[49m\u001b[38;5;124;43m\"\u001b[39;49m\u001b[38;5;124;43mmiddle\u001b[39;49m\u001b[38;5;124;43m\"\u001b[39;49m\u001b[43m,\u001b[49m\u001b[43m \u001b[49m\u001b[43moptimize_N\u001b[49m\u001b[38;5;241;43m=\u001b[39;49m\u001b[43m \u001b[49m\u001b[38;5;28;43;01mTrue\u001b[39;49;00m\u001b[43m,\u001b[49m\n\u001b[0;32m      5\u001b[0m \u001b[43m        \u001b[49m\u001b[43moptimize_location\u001b[49m\u001b[38;5;241;43m=\u001b[39;49m\u001b[43m \u001b[49m\u001b[38;5;28;43;01mTrue\u001b[39;49;00m\n\u001b[0;32m      6\u001b[0m \u001b[43m)\u001b[49m\n",
      "File \u001b[1;32m~\\Documents\\Dev\\Projects\\PyPho\\pypho\\graphics.py:1367\u001b[0m, in \u001b[0;36mplot_sharpness_optimisation_cost\u001b[1;34m(cam, target_points, res, cam_shift, inside_weight, outside_weight, shift_weight, Z_weight, apply_shift, n, **kargs)\u001b[0m\n\u001b[0;32m   1364\u001b[0m target_zx_init \u001b[38;5;241m=\u001b[39m target_zx\n\u001b[0;32m   1365\u001b[0m target_zx \u001b[38;5;241m=\u001b[39m target_zx_init \u001b[38;5;241m+\u001b[39m cam_shift\n\u001b[1;32m-> 1367\u001b[0m Z \u001b[38;5;241m=\u001b[39m np\u001b[38;5;241m.\u001b[39mlinspace(np\u001b[38;5;241m.\u001b[39mnanmin(target_zx), \u001b[43mnp\u001b[49m\u001b[38;5;241;43m.\u001b[39;49m\u001b[43mnanmax\u001b[49m\u001b[43m(\u001b[49m\u001b[43mtarget_zx\u001b[49m\u001b[43m,\u001b[49m\u001b[43m \u001b[49m\u001b[43mn\u001b[49m\u001b[43m)\u001b[49m)\n\u001b[0;32m   1368\u001b[0m total_cost \u001b[38;5;241m=\u001b[39m [np\u001b[38;5;241m.\u001b[39msum(cam\u001b[38;5;241m.\u001b[39m_optimize_sharpness_cost(target_zx_init, cam_shift, Z_i, w_in\u001b[38;5;241m=\u001b[39minside_weight, w_out\u001b[38;5;241m=\u001b[39moutside_weight)) \u001b[38;5;28;01mfor\u001b[39;00m Z_i \u001b[38;5;129;01min\u001b[39;00m Z]\n\u001b[0;32m   1369\u001b[0m plt\u001b[38;5;241m.\u001b[39mplot(Z, total_cost)\n",
      "File \u001b[1;32mc:\\Users\\glaurent\\Documents\\Outils\\MiniForge\\envs\\pypho_install\\lib\\site-packages\\numpy\\lib\\_nanfunctions_impl.py:486\u001b[0m, in \u001b[0;36mnanmax\u001b[1;34m(a, axis, out, keepdims, initial, where)\u001b[0m\n\u001b[0;32m    481\u001b[0m     kwargs[\u001b[38;5;124m'\u001b[39m\u001b[38;5;124mwhere\u001b[39m\u001b[38;5;124m'\u001b[39m] \u001b[38;5;241m=\u001b[39m where\n\u001b[0;32m    483\u001b[0m \u001b[38;5;28;01mif\u001b[39;00m \u001b[38;5;28mtype\u001b[39m(a) \u001b[38;5;129;01mis\u001b[39;00m np\u001b[38;5;241m.\u001b[39mndarray \u001b[38;5;129;01mand\u001b[39;00m a\u001b[38;5;241m.\u001b[39mdtype \u001b[38;5;241m!=\u001b[39m np\u001b[38;5;241m.\u001b[39mobject_:\n\u001b[0;32m    484\u001b[0m     \u001b[38;5;66;03m# Fast, but not safe for subclasses of ndarray, or object arrays,\u001b[39;00m\n\u001b[0;32m    485\u001b[0m     \u001b[38;5;66;03m# which do not implement isnan (gh-9009), or fmax correctly (gh-8975)\u001b[39;00m\n\u001b[1;32m--> 486\u001b[0m     res \u001b[38;5;241m=\u001b[39m np\u001b[38;5;241m.\u001b[39mfmax\u001b[38;5;241m.\u001b[39mreduce(a, axis\u001b[38;5;241m=\u001b[39maxis, out\u001b[38;5;241m=\u001b[39mout, \u001b[38;5;241m*\u001b[39m\u001b[38;5;241m*\u001b[39mkwargs)\n\u001b[0;32m    487\u001b[0m     \u001b[38;5;28;01mif\u001b[39;00m np\u001b[38;5;241m.\u001b[39misnan(res)\u001b[38;5;241m.\u001b[39many():\n\u001b[0;32m    488\u001b[0m         warnings\u001b[38;5;241m.\u001b[39mwarn(\u001b[38;5;124m\"\u001b[39m\u001b[38;5;124mAll-NaN slice encountered\u001b[39m\u001b[38;5;124m\"\u001b[39m, \u001b[38;5;167;01mRuntimeWarning\u001b[39;00m,\n\u001b[0;32m    489\u001b[0m                       stacklevel\u001b[38;5;241m=\u001b[39m\u001b[38;5;241m2\u001b[39m)\n",
      "\u001b[1;31mAxisError\u001b[0m: axis 50 is out of bounds for array of dimension 1"
     ]
    }
   ],
   "source": [
    "# finally this is showing the optimisation resulting cost\n",
    "graphics.plot_sharpness_optimisation_cost(\n",
    "    cam= cam, target_points= target_points, res= res,\n",
    "        use_diffraction= True, mode= \"middle\", optimize_N= True,\n",
    "        optimize_location= True\n",
    ")"
   ]
  },
  {
   "cell_type": "markdown",
   "metadata": {},
   "source": [
    "## Taking a picture"
   ]
  },
  {
   "cell_type": "markdown",
   "metadata": {},
   "source": [
    "The purpose of Cameras is to take pictures (aka. shots). \n",
    "Most parameters can be explored as demonstrated above by modify the camera settings and inspecting the effect on the view object directly, but you want to start and investigate varying the parameters and viewpoints, you might want to actually take the pictures and compare them.\n",
    "\n",
    "Taking a picture is achieved through the `Camera.trigger()` method \n",
    "and generates a `CameraShot` which is a duplicate of the camera state when the shot is taken.\n",
    "\n",
    "The camera holds a list of the pictures it took in the form of `Camera.shots` parameters."
   ]
  },
  {
   "cell_type": "code",
   "execution_count": 93,
   "metadata": {},
   "outputs": [
    {
     "data": {
      "application/vnd.jupyter.widget-view+json": {
       "model_id": "d8c0ddefc1344411be15380d292f2028",
       "version_major": 2,
       "version_minor": 0
      },
      "text/plain": [
       "Widget(value='<iframe src=\"http://localhost:59300/index.html?ui=P_0x1b429fb6e60_28&reconnect=auto\" class=\"pyvi…"
      ]
     },
     "metadata": {},
     "output_type": "display_data"
    }
   ],
   "source": [
    "viewer = graphics.Viewer3D(cam,obj)\n",
    "viewer.show()"
   ]
  },
  {
   "cell_type": "code",
   "execution_count": 94,
   "metadata": {},
   "outputs": [
    {
     "name": "stderr",
     "output_type": "stream",
     "text": [
      "c:\\Users\\glaurent\\Documents\\Outils\\MiniForge\\envs\\pypho_install\\lib\\site-packages\\pyvista\\core\\filters\\poly_data.py:2958: PyVistaDeprecationWarning: `flip_normals` is deprecated. Use `flip_faces` instead. Note that `inplace` is now `False` by default for the new filter.\n",
      "  warnings.warn(\n"
     ]
    },
    {
     "ename": "ValueError",
     "evalue": "all the input array dimensions except for the concatenation axis must match exactly, but along dimension 1, the array at index 0 has size 6146 and the array at index 1 has size 24578",
     "output_type": "error",
     "traceback": [
      "\u001b[1;31m---------------------------------------------------------------------------\u001b[0m",
      "\u001b[1;31mValueError\u001b[0m                                Traceback (most recent call last)",
      "Cell \u001b[1;32mIn[94], line 1\u001b[0m\n\u001b[1;32m----> 1\u001b[0m viewer\u001b[38;5;241m.\u001b[39madd_shot(\u001b[43mcam\u001b[49m\u001b[38;5;241;43m.\u001b[39;49m\u001b[43mtrigger\u001b[49m\u001b[43m(\u001b[49m\u001b[43m)\u001b[49m)\n\u001b[0;32m      2\u001b[0m viewer\u001b[38;5;241m.\u001b[39mshow(show_objects\u001b[38;5;241m=\u001b[39m \u001b[38;5;28;01mFalse\u001b[39;00m)\n",
      "File \u001b[1;32m~\\Documents\\Dev\\Projects\\PyPho\\pypho\\camera.py:2355\u001b[0m, in \u001b[0;36mCamera.trigger\u001b[1;34m(self, add_to_viewer, update_viewer)\u001b[0m\n\u001b[0;32m   2346\u001b[0m \u001b[38;5;28;01mdef\u001b[39;00m\u001b[38;5;250m \u001b[39m\u001b[38;5;21mtrigger\u001b[39m(\u001b[38;5;28mself\u001b[39m, \n\u001b[0;32m   2347\u001b[0m             add_to_viewer\u001b[38;5;241m=\u001b[39m \u001b[38;5;28;01mFalse\u001b[39;00m,\n\u001b[0;32m   2348\u001b[0m             update_viewer\u001b[38;5;241m=\u001b[39m \u001b[38;5;28;01mFalse\u001b[39;00m):\n\u001b[0;32m   2349\u001b[0m \u001b[38;5;250m    \u001b[39m\u001b[38;5;124;03m\"\"\"Take a shot with the camera\u001b[39;00m\n\u001b[0;32m   2350\u001b[0m \u001b[38;5;124;03m    \u001b[39;00m\n\u001b[0;32m   2351\u001b[0m \u001b[38;5;124;03m    By default the Viewer is not updated unless update_viewer is set to True.\u001b[39;00m\n\u001b[0;32m   2352\u001b[0m \u001b[38;5;124;03m    If add_to_viewer is True the shot will be added to the viewer.\u001b[39;00m\n\u001b[0;32m   2353\u001b[0m \u001b[38;5;124;03m    \"\"\"\u001b[39;00m\n\u001b[1;32m-> 2355\u001b[0m     \u001b[38;5;28mself\u001b[39m\u001b[38;5;241m.\u001b[39mshots \u001b[38;5;241m+\u001b[39m\u001b[38;5;241m=\u001b[39m [\u001b[43mCameraShot\u001b[49m\u001b[43m(\u001b[49m\u001b[38;5;28;43mself\u001b[39;49m\u001b[43m)\u001b[49m]\n\u001b[0;32m   2356\u001b[0m     \u001b[38;5;28;01mif\u001b[39;00m add_to_viewer: \u001b[38;5;28mself\u001b[39m\u001b[38;5;241m.\u001b[39mviewer\u001b[38;5;241m.\u001b[39madd_shot(\u001b[38;5;28mself\u001b[39m\u001b[38;5;241m.\u001b[39mshots[\u001b[38;5;241m-\u001b[39m\u001b[38;5;241m1\u001b[39m], update\u001b[38;5;241m=\u001b[39m update_viewer)\n\u001b[0;32m   2357\u001b[0m     \u001b[38;5;28;01mif\u001b[39;00m update_viewer: \u001b[38;5;28mself\u001b[39m\u001b[38;5;241m.\u001b[39mviewer\u001b[38;5;241m.\u001b[39mupdate()\n",
      "File \u001b[1;32m~\\Documents\\Dev\\Projects\\PyPho\\pypho\\camera.py:2403\u001b[0m, in \u001b[0;36mCameraShot.__init__\u001b[1;34m(self, cam, init_visible_part_object)\u001b[0m\n\u001b[0;32m   2400\u001b[0m \u001b[38;5;28;01mif\u001b[39;00m init_visible_part_object: \u001b[38;5;28mself\u001b[39m\u001b[38;5;241m.\u001b[39mget_visible_part_object()\n\u001b[0;32m   2402\u001b[0m \u001b[38;5;66;03m# increment object view properties\u001b[39;00m\n\u001b[1;32m-> 2403\u001b[0m \u001b[38;5;28;43mself\u001b[39;49m\u001b[38;5;241;43m.\u001b[39;49m\u001b[43m_increment_view_count\u001b[49m\u001b[43m(\u001b[49m\u001b[43m)\u001b[49m\n",
      "File \u001b[1;32m~\\Documents\\Dev\\Projects\\PyPho\\pypho\\camera.py:2475\u001b[0m, in \u001b[0;36mCameraShot._increment_view_count\u001b[1;34m(self)\u001b[0m\n\u001b[0;32m   2427\u001b[0m obj\u001b[38;5;241m.\u001b[39mpoint_data\u001b[38;5;241m.\u001b[39mupdate(\n\u001b[0;32m   2428\u001b[0m     \u001b[38;5;28mdict\u001b[39m(\n\u001b[0;32m   2429\u001b[0m         nb_views\u001b[38;5;241m=\u001b[39m np\u001b[38;5;241m.\u001b[39mwhere(\n\u001b[1;32m   (...)\u001b[0m\n\u001b[0;32m   2471\u001b[0m     )\n\u001b[0;32m   2472\u001b[0m )\n\u001b[0;32m   2474\u001b[0m \u001b[38;5;66;03m# increment camera views\u001b[39;00m\n\u001b[1;32m-> 2475\u001b[0m \u001b[38;5;28mself\u001b[39m\u001b[38;5;241m.\u001b[39mcamera\u001b[38;5;241m.\u001b[39mviews[obj] \u001b[38;5;241m=\u001b[39m \u001b[43mnp\u001b[49m\u001b[38;5;241;43m.\u001b[39;49m\u001b[43mconcatenate\u001b[49m\u001b[43m(\u001b[49m\u001b[43m(\u001b[49m\n\u001b[0;32m   2476\u001b[0m \u001b[43m    \u001b[49m\u001b[38;5;28;43mself\u001b[39;49m\u001b[38;5;241;43m.\u001b[39;49m\u001b[43mcamera\u001b[49m\u001b[38;5;241;43m.\u001b[39;49m\u001b[43mviews\u001b[49m\u001b[43m[\u001b[49m\u001b[43mobj\u001b[49m\u001b[43m]\u001b[49m\u001b[43m,\u001b[49m\n\u001b[0;32m   2477\u001b[0m \u001b[43m    \u001b[49m\u001b[43m[\u001b[49m\u001b[43mobj\u001b[49m\u001b[38;5;241;43m.\u001b[39;49m\u001b[43mpoint_data\u001b[49m\u001b[43m[\u001b[49m\u001b[38;5;124;43m\"\u001b[39;49m\u001b[38;5;124;43mvisible_b\u001b[39;49m\u001b[38;5;124;43m\"\u001b[39;49m\u001b[43m]\u001b[49m\u001b[43m]\u001b[49m\n\u001b[0;32m   2478\u001b[0m \u001b[43m\u001b[49m\u001b[43m)\u001b[49m\u001b[43m)\u001b[49m\n",
      "\u001b[1;31mValueError\u001b[0m: all the input array dimensions except for the concatenation axis must match exactly, but along dimension 1, the array at index 0 has size 6146 and the array at index 1 has size 24578"
     ]
    }
   ],
   "source": [
    "\n",
    "viewer.add_shot(cam.trigger())\n",
    "viewer.show(show_objects= False)"
   ]
  },
  {
   "cell_type": "markdown",
   "metadata": {},
   "source": [
    "## Planning a shot sequence"
   ]
  },
  {
   "cell_type": "markdown",
   "metadata": {},
   "source": [
    "With this tools you can visualisation the configuration of a shot sequence."
   ]
  },
  {
   "cell_type": "code",
   "execution_count": 95,
   "metadata": {},
   "outputs": [
    {
     "data": {
      "application/vnd.jupyter.widget-view+json": {
       "model_id": "5719783158454ac2809468749bdb335d",
       "version_major": 2,
       "version_minor": 0
      },
      "text/plain": [
       "Widget(value='<iframe src=\"http://localhost:59300/index.html?ui=P_0x1b42b2432b0_30&reconnect=auto\" class=\"pyvi…"
      ]
     },
     "metadata": {},
     "output_type": "display_data"
    }
   ],
   "source": [
    "# We'll consider a vertical outcrop located 1.5 m away\n",
    "outcrop = target.Outcrop(translation= [1.5,0,0])\n",
    "\n",
    "# We take our preferred camera and place it at 50 cm elevation\n",
    "cam = camera.get_default_camera()\n",
    "cam.move([0,0,0.5])\n",
    "# and aim at the outcrop\n",
    "cam.attach_target(outcrop, aim=False, focus= True)\n",
    "\n",
    "# and view the scene\n",
    "viewer = graphics.Viewer3D(cam, outcrop,\n",
    "                           target_object_opacity=0.5,\n",
    "                           plot_focus_plan_object= False,\n",
    "                           plot_sharpness_object= False,\n",
    "                           plot_sharpness_object_edges= False\n",
    "                           )\n",
    "viewer.show()\n",
    "viewer.plotter.camera.position = [-5,-5,2.5]\n",
    "viewer.plotter.camera.focal_point = [1.4,0.2,0.7]\n",
    "viewer.plotter.camera.up = [0,0,1]"
   ]
  },
  {
   "cell_type": "code",
   "execution_count": 96,
   "metadata": {},
   "outputs": [
    {
     "name": "stderr",
     "output_type": "stream",
     "text": [
      "c:\\Users\\glaurent\\Documents\\Outils\\MiniForge\\envs\\pypho_install\\lib\\site-packages\\pyvista\\core\\filters\\poly_data.py:2958: PyVistaDeprecationWarning: `flip_normals` is deprecated. Use `flip_faces` instead. Note that `inplace` is now `False` by default for the new filter.\n",
      "  warnings.warn(\n"
     ]
    },
    {
     "ename": "KeyError",
     "evalue": "'plot_camera_orientation'",
     "output_type": "error",
     "traceback": [
      "\u001b[1;31m---------------------------------------------------------------------------\u001b[0m",
      "\u001b[1;31mKeyError\u001b[0m                                  Traceback (most recent call last)",
      "Cell \u001b[1;32mIn[96], line 27\u001b[0m\n\u001b[0;32m     24\u001b[0m cam\u001b[38;5;241m.\u001b[39mtrigger()\n\u001b[0;32m     25\u001b[0m cam\u001b[38;5;241m.\u001b[39mturn(angle, \u001b[38;5;124m\"\u001b[39m\u001b[38;5;124mleft\u001b[39m\u001b[38;5;124m\"\u001b[39m)\n\u001b[1;32m---> 27\u001b[0m \u001b[43mviewer\u001b[49m\u001b[38;5;241;43m.\u001b[39;49m\u001b[43madd_shot\u001b[49m\u001b[43m(\u001b[49m\u001b[43mcam\u001b[49m\u001b[38;5;241;43m.\u001b[39;49m\u001b[43mshots\u001b[49m\u001b[43m)\u001b[49m\n\u001b[0;32m     28\u001b[0m viewer\u001b[38;5;241m.\u001b[39mshow(show_cameras\u001b[38;5;241m=\u001b[39m \u001b[38;5;28;01mFalse\u001b[39;00m)\n\u001b[0;32m     29\u001b[0m viewer\u001b[38;5;241m.\u001b[39mplotter\u001b[38;5;241m.\u001b[39mcamera\u001b[38;5;241m.\u001b[39mposition \u001b[38;5;241m=\u001b[39m [\u001b[38;5;241m-\u001b[39m\u001b[38;5;241m5\u001b[39m,\u001b[38;5;241m-\u001b[39m\u001b[38;5;241m5\u001b[39m,\u001b[38;5;241m2.5\u001b[39m]\n",
      "File \u001b[1;32m~\\Documents\\Dev\\Projects\\PyPho\\pypho\\graphics.py:1477\u001b[0m, in \u001b[0;36mViewer.add_shot\u001b[1;34m(self, shot, update)\u001b[0m\n\u001b[0;32m   1475\u001b[0m \u001b[38;5;28mself\u001b[39m\u001b[38;5;241m.\u001b[39mshots \u001b[38;5;241m+\u001b[39m\u001b[38;5;241m=\u001b[39m new_shots\n\u001b[0;32m   1476\u001b[0m \u001b[38;5;28;01mif\u001b[39;00m update:\n\u001b[1;32m-> 1477\u001b[0m     \u001b[38;5;28;43mself\u001b[39;49m\u001b[38;5;241;43m.\u001b[39;49m\u001b[43mplot_shots\u001b[49m\u001b[43m(\u001b[49m\u001b[43mnew_shots\u001b[49m\u001b[43m)\u001b[49m\n\u001b[0;32m   1478\u001b[0m     \u001b[38;5;28mself\u001b[39m\u001b[38;5;241m.\u001b[39mupdate()\n",
      "File \u001b[1;32m~\\Documents\\Dev\\Projects\\PyPho\\pypho\\graphics.py:1522\u001b[0m, in \u001b[0;36mViewer.plot_shots\u001b[1;34m(self, shots)\u001b[0m\n\u001b[0;32m   1520\u001b[0m \u001b[38;5;250m\u001b[39m\u001b[38;5;124;03m\"\"\"Plots the shots\"\"\"\u001b[39;00m\n\u001b[0;32m   1521\u001b[0m \u001b[38;5;28;01mfor\u001b[39;00m shot \u001b[38;5;129;01min\u001b[39;00m (\u001b[38;5;28mself\u001b[39m\u001b[38;5;241m.\u001b[39mshots \u001b[38;5;28;01mif\u001b[39;00m shots \u001b[38;5;129;01mis\u001b[39;00m \u001b[38;5;28;01mNone\u001b[39;00m \u001b[38;5;28;01melse\u001b[39;00m shots):\n\u001b[1;32m-> 1522\u001b[0m     \u001b[38;5;28;43mself\u001b[39;49m\u001b[38;5;241;43m.\u001b[39;49m\u001b[43mplot_shot\u001b[49m\u001b[43m(\u001b[49m\u001b[43mshot\u001b[49m\u001b[43m)\u001b[49m\n",
      "File \u001b[1;32m~\\Documents\\Dev\\Projects\\PyPho\\pypho\\graphics.py:1778\u001b[0m, in \u001b[0;36mViewer3D.plot_shot\u001b[1;34m(self, shot)\u001b[0m\n\u001b[0;32m   1776\u001b[0m \u001b[38;5;28;01mdef\u001b[39;00m\u001b[38;5;250m \u001b[39m\u001b[38;5;21mplot_shot\u001b[39m(\u001b[38;5;28mself\u001b[39m, shot):\n\u001b[0;32m   1777\u001b[0m \u001b[38;5;250m    \u001b[39m\u001b[38;5;124;03m\"\"\"Plot the given camera\"\"\"\u001b[39;00m\n\u001b[1;32m-> 1778\u001b[0m     \u001b[38;5;28;43mself\u001b[39;49m\u001b[38;5;241;43m.\u001b[39;49m\u001b[43m_plot_camera\u001b[49m\u001b[43m(\u001b[49m\u001b[43mshot\u001b[49m\u001b[43m,\u001b[49m\u001b[43m \u001b[49m\u001b[38;5;28;43mself\u001b[39;49m\u001b[38;5;241;43m.\u001b[39;49m\u001b[43mshot_param\u001b[49m\u001b[43m)\u001b[49m\n",
      "File \u001b[1;32m~\\Documents\\Dev\\Projects\\PyPho\\pypho\\graphics.py:1701\u001b[0m, in \u001b[0;36mViewer3D._plot_camera\u001b[1;34m(self, camera, param)\u001b[0m\n\u001b[0;32m   1695\u001b[0m     \u001b[38;5;28mself\u001b[39m\u001b[38;5;241m.\u001b[39mplotter\u001b[38;5;241m.\u001b[39madd_mesh(camera\u001b[38;5;241m.\u001b[39mget_location_object(),\n\u001b[0;32m   1696\u001b[0m         color \u001b[38;5;241m=\u001b[39m param[\u001b[38;5;124m\"\u001b[39m\u001b[38;5;124mcamera_location_color\u001b[39m\u001b[38;5;124m\"\u001b[39m], render_points_as_spheres\u001b[38;5;241m=\u001b[39m \u001b[38;5;28;01mTrue\u001b[39;00m,\n\u001b[0;32m   1697\u001b[0m         opacity\u001b[38;5;241m=\u001b[39m param[\u001b[38;5;124m\"\u001b[39m\u001b[38;5;124mcamera_location_opacity\u001b[39m\u001b[38;5;124m\"\u001b[39m],\n\u001b[0;32m   1698\u001b[0m         point_size\u001b[38;5;241m=\u001b[39m camera\u001b[38;5;241m.\u001b[39mfocal \u001b[38;5;241m*\u001b[39m param[\u001b[38;5;124m\"\u001b[39m\u001b[38;5;124mcamera_location_point_size_factor\u001b[39m\u001b[38;5;124m\"\u001b[39m])\n\u001b[0;32m   1699\u001b[0m         \u001b[38;5;66;03m# TODO :make it a param of viewer size\u001b[39;00m\n\u001b[1;32m-> 1701\u001b[0m \u001b[38;5;28;01mif\u001b[39;00m \u001b[43mparam\u001b[49m\u001b[43m[\u001b[49m\u001b[38;5;124;43m\"\u001b[39;49m\u001b[38;5;124;43mplot_camera_orientation\u001b[39;49m\u001b[38;5;124;43m\"\u001b[39;49m\u001b[43m]\u001b[49m:\n\u001b[0;32m   1702\u001b[0m     orientation_objects \u001b[38;5;241m=\u001b[39m camera\u001b[38;5;241m.\u001b[39mget_orientation_object()\n\u001b[0;32m   1703\u001b[0m     \u001b[38;5;28mself\u001b[39m\u001b[38;5;241m.\u001b[39mplotter\u001b[38;5;241m.\u001b[39madd_mesh(orientation_objects[\u001b[38;5;124m\"\u001b[39m\u001b[38;5;124mfront\u001b[39m\u001b[38;5;124m\"\u001b[39m],\n\u001b[0;32m   1704\u001b[0m         color \u001b[38;5;241m=\u001b[39m param[\u001b[38;5;124m\"\u001b[39m\u001b[38;5;124mcamera_front_direction_color\u001b[39m\u001b[38;5;124m\"\u001b[39m]\n\u001b[0;32m   1705\u001b[0m         )\n",
      "\u001b[1;31mKeyError\u001b[0m: 'plot_camera_orientation'"
     ]
    }
   ],
   "source": [
    "angle = 25\n",
    "shift = 0.4\n",
    "\n",
    "cam.trigger()\n",
    "cam.turn(angle, \"left\")\n",
    "cam.trigger()\n",
    "cam.turn(2*angle, \"right\")\n",
    "cam.trigger()\n",
    "\n",
    "cam.turn(angle, \"left\")\n",
    "cam.move([0,0,shift])\n",
    "cam.trigger()\n",
    "cam.turn(angle, \"left\")\n",
    "cam.trigger()\n",
    "cam.turn(2*angle, \"right\")\n",
    "cam.trigger()\n",
    "\n",
    "cam.turn(angle, \"left\")\n",
    "cam.move([0,0,shift])\n",
    "cam.trigger()\n",
    "cam.turn(angle, \"left\")\n",
    "cam.trigger()\n",
    "cam.turn(2*angle, \"right\")\n",
    "cam.trigger()\n",
    "cam.turn(angle, \"left\")\n",
    "\n",
    "viewer.add_shot(cam.shots)\n",
    "viewer.show(show_cameras= False)\n",
    "viewer.plotter.camera.position = [-5,-5,2.5]\n",
    "viewer.plotter.camera.focal_point = [1.4,0.2,0.7]\n",
    "viewer.plotter.camera.up = [0,0,1]"
   ]
  },
  {
   "cell_type": "markdown",
   "metadata": {},
   "source": [
    "## Counting views\n",
    "\n",
    "In a photogrammetric design, it is crucial to evaluate how each part of the target object is going to be documented. Quantifying the number of potential views for each point is also a way to evaluate a posteriori the quality of the reconstruction by comparing how the number of expected views and the number of pictures used in the reconstruction of each model point.\n",
    "\n",
    "Pypho provides two tools for this:\n",
    "1. a scalar field is incremented each time a picture is taken: `object.point_data[\"nb_views\"]`\n",
    "2. each camera stores a view counter for each attached object `Camera.views`. It takes the form of a dictionnary associating a boolean array to each attached object. The lines of the array are for each shot, the column for each data point. This can be visualised by `graphics.plot_view_matrix`"
   ]
  },
  {
   "cell_type": "code",
   "execution_count": 97,
   "metadata": {},
   "outputs": [
    {
     "data": {
      "application/vnd.jupyter.widget-view+json": {
       "model_id": "5bafae143e5b4f2c918662d497c16cbf",
       "version_major": 2,
       "version_minor": 0
      },
      "text/plain": [
       "Widget(value='<iframe src=\"http://localhost:59300/index.html?ui=P_0x1b42b252410_32&reconnect=auto\" class=\"pyvi…"
      ]
     },
     "metadata": {},
     "output_type": "display_data"
    },
    {
     "name": "stderr",
     "output_type": "stream",
     "text": [
      "c:\\Users\\glaurent\\Documents\\Outils\\MiniForge\\envs\\pypho_install\\lib\\site-packages\\pyvista\\core\\filters\\poly_data.py:2958: PyVistaDeprecationWarning: `flip_normals` is deprecated. Use `flip_faces` instead. Note that `inplace` is now `False` by default for the new filter.\n",
      "  warnings.warn(\n"
     ]
    }
   ],
   "source": [
    "obj, cam, viewer = graphics.get_default_scene(show= False)\n",
    "viewer.show(show_shots= True, show_cameras= True)\n",
    "cam.trigger(add_to_viewer= False)\n",
    "viewer.set_active_scalars(\"nb_views\")"
   ]
  },
  {
   "cell_type": "code",
   "execution_count": 98,
   "metadata": {},
   "outputs": [
    {
     "ename": "KeyError",
     "evalue": "'plot_camera_orientation'",
     "output_type": "error",
     "traceback": [
      "\u001b[1;31m---------------------------------------------------------------------------\u001b[0m",
      "\u001b[1;31mKeyError\u001b[0m                                  Traceback (most recent call last)",
      "Cell \u001b[1;32mIn[98], line 7\u001b[0m\n\u001b[0;32m      4\u001b[0m     cam\u001b[38;5;241m.\u001b[39mtrigger(add_to_viewer\u001b[38;5;241m=\u001b[39m \u001b[38;5;28;01mTrue\u001b[39;00m)\n\u001b[0;32m      5\u001b[0m viewer\u001b[38;5;241m.\u001b[39mupdate()\n\u001b[1;32m----> 7\u001b[0m \u001b[43mviewer\u001b[49m\u001b[38;5;241;43m.\u001b[39;49m\u001b[43mplot_shots\u001b[49m\u001b[43m(\u001b[49m\u001b[43m)\u001b[49m\n",
      "File \u001b[1;32m~\\Documents\\Dev\\Projects\\PyPho\\pypho\\graphics.py:1522\u001b[0m, in \u001b[0;36mViewer.plot_shots\u001b[1;34m(self, shots)\u001b[0m\n\u001b[0;32m   1520\u001b[0m \u001b[38;5;250m\u001b[39m\u001b[38;5;124;03m\"\"\"Plots the shots\"\"\"\u001b[39;00m\n\u001b[0;32m   1521\u001b[0m \u001b[38;5;28;01mfor\u001b[39;00m shot \u001b[38;5;129;01min\u001b[39;00m (\u001b[38;5;28mself\u001b[39m\u001b[38;5;241m.\u001b[39mshots \u001b[38;5;28;01mif\u001b[39;00m shots \u001b[38;5;129;01mis\u001b[39;00m \u001b[38;5;28;01mNone\u001b[39;00m \u001b[38;5;28;01melse\u001b[39;00m shots):\n\u001b[1;32m-> 1522\u001b[0m     \u001b[38;5;28;43mself\u001b[39;49m\u001b[38;5;241;43m.\u001b[39;49m\u001b[43mplot_shot\u001b[49m\u001b[43m(\u001b[49m\u001b[43mshot\u001b[49m\u001b[43m)\u001b[49m\n",
      "File \u001b[1;32m~\\Documents\\Dev\\Projects\\PyPho\\pypho\\graphics.py:1778\u001b[0m, in \u001b[0;36mViewer3D.plot_shot\u001b[1;34m(self, shot)\u001b[0m\n\u001b[0;32m   1776\u001b[0m \u001b[38;5;28;01mdef\u001b[39;00m\u001b[38;5;250m \u001b[39m\u001b[38;5;21mplot_shot\u001b[39m(\u001b[38;5;28mself\u001b[39m, shot):\n\u001b[0;32m   1777\u001b[0m \u001b[38;5;250m    \u001b[39m\u001b[38;5;124;03m\"\"\"Plot the given camera\"\"\"\u001b[39;00m\n\u001b[1;32m-> 1778\u001b[0m     \u001b[38;5;28;43mself\u001b[39;49m\u001b[38;5;241;43m.\u001b[39;49m\u001b[43m_plot_camera\u001b[49m\u001b[43m(\u001b[49m\u001b[43mshot\u001b[49m\u001b[43m,\u001b[49m\u001b[43m \u001b[49m\u001b[38;5;28;43mself\u001b[39;49m\u001b[38;5;241;43m.\u001b[39;49m\u001b[43mshot_param\u001b[49m\u001b[43m)\u001b[49m\n",
      "File \u001b[1;32m~\\Documents\\Dev\\Projects\\PyPho\\pypho\\graphics.py:1701\u001b[0m, in \u001b[0;36mViewer3D._plot_camera\u001b[1;34m(self, camera, param)\u001b[0m\n\u001b[0;32m   1695\u001b[0m     \u001b[38;5;28mself\u001b[39m\u001b[38;5;241m.\u001b[39mplotter\u001b[38;5;241m.\u001b[39madd_mesh(camera\u001b[38;5;241m.\u001b[39mget_location_object(),\n\u001b[0;32m   1696\u001b[0m         color \u001b[38;5;241m=\u001b[39m param[\u001b[38;5;124m\"\u001b[39m\u001b[38;5;124mcamera_location_color\u001b[39m\u001b[38;5;124m\"\u001b[39m], render_points_as_spheres\u001b[38;5;241m=\u001b[39m \u001b[38;5;28;01mTrue\u001b[39;00m,\n\u001b[0;32m   1697\u001b[0m         opacity\u001b[38;5;241m=\u001b[39m param[\u001b[38;5;124m\"\u001b[39m\u001b[38;5;124mcamera_location_opacity\u001b[39m\u001b[38;5;124m\"\u001b[39m],\n\u001b[0;32m   1698\u001b[0m         point_size\u001b[38;5;241m=\u001b[39m camera\u001b[38;5;241m.\u001b[39mfocal \u001b[38;5;241m*\u001b[39m param[\u001b[38;5;124m\"\u001b[39m\u001b[38;5;124mcamera_location_point_size_factor\u001b[39m\u001b[38;5;124m\"\u001b[39m])\n\u001b[0;32m   1699\u001b[0m         \u001b[38;5;66;03m# TODO :make it a param of viewer size\u001b[39;00m\n\u001b[1;32m-> 1701\u001b[0m \u001b[38;5;28;01mif\u001b[39;00m \u001b[43mparam\u001b[49m\u001b[43m[\u001b[49m\u001b[38;5;124;43m\"\u001b[39;49m\u001b[38;5;124;43mplot_camera_orientation\u001b[39;49m\u001b[38;5;124;43m\"\u001b[39;49m\u001b[43m]\u001b[49m:\n\u001b[0;32m   1702\u001b[0m     orientation_objects \u001b[38;5;241m=\u001b[39m camera\u001b[38;5;241m.\u001b[39mget_orientation_object()\n\u001b[0;32m   1703\u001b[0m     \u001b[38;5;28mself\u001b[39m\u001b[38;5;241m.\u001b[39mplotter\u001b[38;5;241m.\u001b[39madd_mesh(orientation_objects[\u001b[38;5;124m\"\u001b[39m\u001b[38;5;124mfront\u001b[39m\u001b[38;5;124m\"\u001b[39m],\n\u001b[0;32m   1704\u001b[0m         color \u001b[38;5;241m=\u001b[39m param[\u001b[38;5;124m\"\u001b[39m\u001b[38;5;124mcamera_front_direction_color\u001b[39m\u001b[38;5;124m\"\u001b[39m]\n\u001b[0;32m   1705\u001b[0m         )\n",
      "\u001b[1;31mKeyError\u001b[0m: 'plot_camera_orientation'"
     ]
    }
   ],
   "source": [
    "n_step = 30\n",
    "for i in range(n_step):\n",
    "    cam.orbit(360/n_step, obj.center)\n",
    "    cam.trigger(add_to_viewer= True)\n",
    "viewer.update()\n",
    "\n",
    "viewer.plot_shots()"
   ]
  },
  {
   "cell_type": "code",
   "execution_count": 99,
   "metadata": {},
   "outputs": [
    {
     "data": {
      "image/png": "[encoded data removed]",
      "text/plain": [
       "<Figure size 640x480 with 2 Axes>"
      ]
     },
     "metadata": {},
     "output_type": "display_data"
    }
   ],
   "source": [
    "\n",
    "graphics.plot_view_matrix(cam)"
   ]
  },
  {
   "cell_type": "markdown",
   "metadata": {},
   "source": [
    "## Accessible properties"
   ]
  },
  {
   "cell_type": "code",
   "execution_count": 100,
   "metadata": {},
   "outputs": [
    {
     "name": "stderr",
     "output_type": "stream",
     "text": [
      "C:\\Users\\glaurent\\Documents\\Dev\\Projects\\PyPho\\pypho\\camera.py:2017: UserWarning: Gimbal lock detected. Setting third angle to zero since it is not possible to uniquely determine all angles.\n",
      "  self._update_rotation_from_vectors()\n",
      "C:\\Users\\glaurent\\Documents\\Dev\\Projects\\PyPho\\pypho\\camera.py:1873: UserWarning: Gimbal lock detected. Setting third angle to zero since it is not possible to uniquely determine all angles.\n",
      "  self.aim_at(target= target, **kargs)\n",
      "C:\\Users\\glaurent\\Documents\\Dev\\Projects\\PyPho\\pypho\\camera.py:543: RuntimeWarning: invalid value encountered in sqrt\n",
      "  return np.sqrt(sum_sqr)\n"
     ]
    },
    {
     "data": {
      "application/vnd.jupyter.widget-view+json": {
       "model_id": "499f07bfa0464b158ab89f86b9d59b13",
       "version_major": 2,
       "version_minor": 0
      },
      "text/plain": [
       "Widget(value='<iframe src=\"http://localhost:59300/index.html?ui=P_0x1b45438beb0_34&reconnect=auto\" class=\"pyvi…"
      ]
     },
     "metadata": {},
     "output_type": "display_data"
    }
   ],
   "source": [
    "from pyvista import examples\n",
    "hills = target.TargetObject(examples.load_random_hills(), kind=\"Ground\")\n",
    "cam = camera.get_default_camera()\n",
    "cam.init_location(hills)\n",
    "cam.attach_target(hills)\n",
    "cam.update_view([2,10,5],180,0,0)\n",
    "cam.focus_on()\n",
    "\n",
    "viewer = graphics.Viewer3D(cameras=cam, objects=hills)\n",
    "viewer.show()"
   ]
  },
  {
   "cell_type": "code",
   "execution_count": 101,
   "metadata": {},
   "outputs": [],
   "source": [
    "viewer.set_active_scalars(\"z_all\")"
   ]
  },
  {
   "cell_type": "code",
   "execution_count": 102,
   "metadata": {},
   "outputs": [],
   "source": [
    "viewer.set_active_scalars(\"sampling_distance\")"
   ]
  },
  {
   "cell_type": "code",
   "execution_count": 103,
   "metadata": {},
   "outputs": [
    {
     "data": {
      "application/vnd.jupyter.widget-view+json": {
       "model_id": "64cd79ea9dc6404890dd0ab96238aae2",
       "version_major": 2,
       "version_minor": 0
      },
      "text/plain": [
       "Widget(value='<iframe src=\"http://localhost:59300/index.html?ui=P_0x1b4543f1000_36&reconnect=auto\" class=\"pyvi…"
      ]
     },
     "metadata": {},
     "output_type": "display_data"
    },
    {
     "name": "stderr",
     "output_type": "stream",
     "text": [
      "c:\\Users\\glaurent\\Documents\\Outils\\MiniForge\\envs\\pypho_install\\lib\\site-packages\\pyvista\\core\\filters\\poly_data.py:2958: PyVistaDeprecationWarning: `flip_normals` is deprecated. Use `flip_faces` instead. Note that `inplace` is now `False` by default for the new filter.\n",
      "  warnings.warn(\n"
     ]
    }
   ],
   "source": [
    "obj, cam, viewer = graphics.get_default_scene(show= False)\n",
    "viewer.show(show_shots= True, show_cameras= True)\n",
    "cam.move_to(2.5, \"distance\")\n",
    "cam.trigger(add_to_viewer= False)\n",
    "viewer.set_active_scalars(\"nb_views\")"
   ]
  },
  {
   "cell_type": "code",
   "execution_count": null,
   "metadata": {},
   "outputs": [],
   "source": [
    "cam.orbit(20)\n",
    "cam.trigger(add_to_viewer= False)\n",
    "viewer.update()\n",
    "print(np.nanmin(obj.point_data[\"best_blur_diameter\"]), np.nanmax(obj.point_data[\"best_blur_diameter\"]))"
   ]
  },
  {
   "cell_type": "code",
   "execution_count": 105,
   "metadata": {},
   "outputs": [],
   "source": [
    "viewer.set_active_scalars(\"nb_sharp_views\")"
   ]
  },
  {
   "cell_type": "code",
   "execution_count": 95,
   "metadata": {},
   "outputs": [],
   "source": [
    "viewer.set_active_scalars(\"best_resolution\")"
   ]
  },
  {
   "cell_type": "code",
   "execution_count": 130,
   "metadata": {},
   "outputs": [],
   "source": [
    "viewer.set_active_scalars(\"best_sampling\")"
   ]
  },
  {
   "cell_type": "code",
   "execution_count": 185,
   "metadata": {},
   "outputs": [
    {
     "data": {
      "text/plain": [
       "np.float64(4.587625981473723)"
      ]
     },
     "execution_count": 185,
     "metadata": {},
     "output_type": "execute_result"
    }
   ],
   "source": [
    "np.nanmin(obj.point_data[\"best_blur_diameter\"])"
   ]
  },
  {
   "cell_type": "code",
   "execution_count": 5,
   "metadata": {},
   "outputs": [],
   "source": [
    "viewer.set_active_scalars(\"best_blur_diameter\",\n",
    "    cmap= graphics.BlurSpotDiameterColormap(cam=cam, obj= obj, field=\"best_blur_diameter\")\n",
    ")"
   ]
  },
  {
   "cell_type": "code",
   "execution_count": 22,
   "metadata": {},
   "outputs": [],
   "source": [
    "viewer.set_active_scalars(\"best_defocus_diameter\")"
   ]
  },
  {
   "cell_type": "code",
   "execution_count": 34,
   "metadata": {},
   "outputs": [
    {
     "data": {
      "text/html": [
       "<table style='width: 100%;'><tr><th>Header</th><th>Data Arrays</th></tr><tr><td>\n",
       "<table style='width: 100%;'>\n",
       "<tr><th>TargetObject</th><th>Information</th></tr>\n",
       "<tr><td>N Cells</td><td>192</td></tr>\n",
       "<tr><td>N Points</td><td>98</td></tr>\n",
       "<tr><td>N Strips</td><td>0</td></tr>\n",
       "<tr><td>X Bounds</td><td>-4.477e-01, 4.477e-01</td></tr>\n",
       "<tr><td>Y Bounds</td><td>-3.582e-01, 3.582e-01</td></tr>\n",
       "<tr><td>Z Bounds</td><td>-1.067e-01, 2.067e-01</td></tr>\n",
       "<tr><td>N Arrays</td><td>28</td></tr>\n",
       "</table>\n",
       "\n",
       "</td><td>\n",
       "<table style='width: 100%;'>\n",
       "<tr><th>Name</th><th>Field</th><th>Type</th><th>N Comp</th><th>Min</th><th>Max</th></tr>\n",
       "<tr><td>TCoords</td><td>Points</td><td>float32</td><td>2</td><td>-4.564e-01</td><td>8.582e-01</td></tr>\n",
       "<tr><td>Normals</td><td>Points</td><td>float32</td><td>3</td><td>-1.000e+00</td><td>1.000e+00</td></tr>\n",
       "<tr><td>x</td><td>Points</td><td>float64</td><td>1</td><td>-3.582e-01</td><td>3.582e-01</td></tr>\n",
       "<tr><td>y</td><td>Points</td><td>float64</td><td>1</td><td>-1.568e-01</td><td>1.569e-01</td></tr>\n",
       "<tr><td>z</td><td>Points</td><td>float64</td><td>1</td><td>3.046e-01</td><td>1.199e+00</td></tr>\n",
       "<tr><td>angle_width</td><td>Points</td><td>float64</td><td>1</td><td>-3.319e+01</td><td>3.135e+01</td></tr>\n",
       "<tr><td>angle_height</td><td>Points</td><td>float64</td><td>1</td><td>-1.365e+01</td><td>1.728e+01</td></tr>\n",
       "<tr><td>pix_i</td><td>Points</td><td>float64</td><td>1</td><td>-6.157e+03</td><td>5.734e+03</td></tr>\n",
       "<tr><td>pix_j</td><td>Points</td><td>float64</td><td>1</td><td>-2.285e+03</td><td>2.929e+03</td></tr>\n",
       "<tr><td>facing_b</td><td>Points</td><td>bool</td><td>1</td><td>nan</td><td>nan</td></tr>\n",
       "<tr><td>facing</td><td>Points</td><td>float64</td><td>1</td><td>0.000e+00</td><td>1.000e+00</td></tr>\n",
       "<tr><td>in_view_b</td><td>Points</td><td>bool</td><td>1</td><td>nan</td><td>nan</td></tr>\n",
       "<tr><td>in_view</td><td>Points</td><td>float64</td><td>1</td><td>0.000e+00</td><td>1.000e+00</td></tr>\n",
       "<tr><td>visible_b</td><td>Points</td><td>bool</td><td>1</td><td>nan</td><td>nan</td></tr>\n",
       "<tr><td>visible</td><td>Points</td><td>float64</td><td>1</td><td>0.000e+00</td><td>1.000e+00</td></tr>\n",
       "<tr><td>resolution</td><td>Points</td><td>float64</td><td>1</td><td>7.852e+00</td><td>3.090e+01</td></tr>\n",
       "<tr><td>sampling_distance</td><td>Points</td><td>float64</td><td>1</td><td>3.237e-02</td><td>1.274e-01</td></tr>\n",
       "<tr><td>defocus_diameter</td><td>Points</td><td>float64</td><td>1</td><td>0.000e+00</td><td>1.210e+03</td></tr>\n",
       "<tr><td>diffraction_diameter</td><td>Points</td><td>float64</td><td>1</td><td>3.839e+00</td><td>4.159e+00</td></tr>\n",
       "<tr><td>blur_spot_diameter</td><td>Points</td><td>float64</td><td>1</td><td>2.495e+00</td><td>1.210e+03</td></tr>\n",
       "<tr><td>depth_error_std</td><td>Points</td><td>float64</td><td>1</td><td>3.287e-06</td><td>5.089e-05</td></tr>\n",
       "<tr><td>sharp_b</td><td>Points</td><td>bool</td><td>1</td><td>nan</td><td>nan</td></tr>\n",
       "<tr><td>sharp</td><td>Points</td><td>float64</td><td>1</td><td>0.000e+00</td><td>0.000e+00</td></tr>\n",
       "<tr><td>visible_sharp_b</td><td>Points</td><td>bool</td><td>1</td><td>nan</td><td>nan</td></tr>\n",
       "<tr><td>visible_sharp</td><td>Points</td><td>float64</td><td>1</td><td>0.000e+00</td><td>0.000e+00</td></tr>\n",
       "<tr><td><b>nb_views</b></td><td>Points</td><td>float64</td><td>1</td><td>0.000e+00</td><td>1.000e+00</td></tr>\n",
       "<tr><td>FaceIndex</td><td>Cells</td><td>int64</td><td>1</td><td>0.000e+00</td><td>5.000e+00</td></tr>\n",
       "<tr><td>Normals</td><td>Cells</td><td>float32</td><td>3</td><td>-9.972e-01</td><td>9.972e-01</td></tr>\n",
       "</table>\n",
       "\n",
       "</td></tr> </table>"
      ],
      "text/plain": [
       "TargetObject (0x232f7bff160)\n",
       "  N Cells:    192\n",
       "  N Points:   98\n",
       "  N Strips:   0\n",
       "  X Bounds:   -4.477e-01, 4.477e-01\n",
       "  Y Bounds:   -3.582e-01, 3.582e-01\n",
       "  Z Bounds:   -1.067e-01, 2.067e-01\n",
       "  N Arrays:   28"
      ]
     },
     "execution_count": 34,
     "metadata": {},
     "output_type": "execute_result"
    }
   ],
   "source": [
    "obj"
   ]
  },
  {
   "cell_type": "markdown",
   "metadata": {},
   "source": [
    "## Custom colormaps"
   ]
  },
  {
   "cell_type": "markdown",
   "metadata": {},
   "source": [
    "Custom colormaps have been defined for the blur diameters."
   ]
  },
  {
   "cell_type": "code",
   "execution_count": 51,
   "metadata": {},
   "outputs": [],
   "source": [
    "_ = importlib.reload(graphics)"
   ]
  },
  {
   "cell_type": "code",
   "execution_count": 110,
   "metadata": {},
   "outputs": [
    {
     "data": {
      "application/vnd.jupyter.widget-view+json": {
       "model_id": "c85fbaf4c1ed41c0a1ca24a4659a3f06",
       "version_major": 2,
       "version_minor": 0
      },
      "text/plain": [
       "Widget(value='<iframe src=\"http://localhost:60564/index.html?ui=P_0x1f402412350_29&reconnect=auto\" class=\"pyvi…"
      ]
     },
     "metadata": {},
     "output_type": "display_data"
    },
    {
     "data": {
      "text/plain": [
       "<pypho.design.camera.CameraShot at 0x1f476293f50>"
      ]
     },
     "execution_count": 110,
     "metadata": {},
     "output_type": "execute_result"
    }
   ],
   "source": [
    "obj, cam, viewer = graphics.get_default_scene(show= False)\n",
    "cam.move_to(1.5, \"distance\")\n",
    "cam.update_aperture()\n",
    "cam.focus_on(obj.center)\n",
    "viewer.show(show_shots= True, show_cameras= True)\n",
    "cam.trigger(add_to_viewer= False)"
   ]
  },
  {
   "cell_type": "code",
   "execution_count": 53,
   "metadata": {},
   "outputs": [
    {
     "data": {
      "text/plain": [
       "np.float64(7.437500000000001)"
      ]
     },
     "execution_count": 53,
     "metadata": {},
     "output_type": "execute_result"
    }
   ],
   "source": [
    "cam.confusion_circle_diameter*1000"
   ]
  },
  {
   "cell_type": "code",
   "execution_count": 54,
   "metadata": {},
   "outputs": [],
   "source": [
    "# setting the colormap to show the blur spot (total including diffraction)\n",
    "# the white fringe locates the confusion circle diameter\n",
    "viewer.set_active_scalars(\"blur_spot_diameter\",\n",
    "                          cmap= graphics.BlurSpotDiameterColormap(cam=cam, obj= obj)\n",
    "                )"
   ]
  },
  {
   "cell_type": "code",
   "execution_count": 55,
   "metadata": {},
   "outputs": [],
   "source": [
    "# setting the colormap to show the defocus diameter only (no diffraction)\n",
    "# here vmin is used to force the colormap to start at 0\n",
    "# be careful to use the same vmin in both the set_active_scalars and Cmap values\n",
    "viewer.set_active_scalars(\"defocus_diameter\", vmin=0,\n",
    "                    cmap= graphics.BlurSpotDiameterColormap(cam=cam, obj= obj, \n",
    "                                                            vmin=0, field= \"defocus_diameter\")\n",
    "                )"
   ]
  },
  {
   "cell_type": "code",
   "execution_count": 58,
   "metadata": {},
   "outputs": [],
   "source": [
    "# this is automatically updated with the viewer\n",
    "cam.move_to(3, \"distance\", target= obj.center)\n",
    "viewer.update()"
   ]
  }
 ],
 "metadata": {
  "kernelspec": {
   "display_name": "pypho_install",
   "language": "python",
   "name": "python3"
  },
  "language_info": {
   "codemirror_mode": {
    "name": "ipython",
    "version": 3
   },
   "file_extension": ".py",
   "mimetype": "text/x-python",
   "name": "python",
   "nbconvert_exporter": "python",
   "pygments_lexer": "ipython3",
   "version": "3.10.18"
  }
 },
 "nbformat": 4,
 "nbformat_minor": 2
}
